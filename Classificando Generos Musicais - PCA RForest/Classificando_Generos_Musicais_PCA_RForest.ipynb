{
  "nbformat": 4,
  "nbformat_minor": 0,
  "cells": [
    {
      "cell_type": "markdown",
      "source": [
        "## **Classificação de Gêneros Musicais**\n",
        "\n",
        "> Os serviços de streaming de músicas tornaram-se o principal meio das pessoas escutarem músicas. Apesar dos enormes catálogos atraírem muitos usuários, esta grande quantidade de músicas oferecidas pode deixar os utilizadores sobrecarregados quando tentam procurar pelas músicas que se adequem aos seus gostos. Assim, os serviços de streaming têm procurado mieos de categorizar as músicas de modo a permitir recomendações personalizadas.\n",
        "\n",
        ">Neste projeto, inspirado pela plataforma DataCamp, serão examinados os dados compilados por um grupo de pesquisa conhecido como The Echo Nest. o objetivo é analisar estes dados e classificar como Hip-Hop ou Rock. Os dados estão em 2 arquivos, CSV e JSON.\n",
        "\n",
        "<p><img src=\"https://cdn.pixabay.com/photo/2017/01/18/17/14/girl-1990347_960_720.jpg\" alt=\"pixabay\" width=\"400px\"></p>"
      ],
      "metadata": {
        "id": "leBN2tDPOj-5"
      }
    },
    {
      "cell_type": "markdown",
      "source": [
        "### Dados utilizados"
      ],
      "metadata": {
        "id": "jdDzQX1ZNhEp"
      }
    },
    {
      "cell_type": "markdown",
      "source": [
        "Como optei por utilizar o Google Colab, estarei realizando o upload dos arquivos de dados com o auxílio da função ```files.upload()```."
      ],
      "metadata": {
        "id": "CbdUn4Toed9d"
      }
    },
    {
      "cell_type": "code",
      "source": [
        "# Importando os dados a serem utilizados\n",
        "from google.colab import files\n",
        "uploaded1 = files.upload()\n",
        "uploaded2 = files.upload()"
      ],
      "metadata": {
        "colab": {
          "base_uri": "https://localhost:8080/",
          "height": 128
        },
        "id": "8uH3iCVANTJm",
        "outputId": "fe936b34-7982-4945-c706-e6d44d918715"
      },
      "execution_count": 1,
      "outputs": [
        {
          "output_type": "display_data",
          "data": {
            "text/plain": [
              "<IPython.core.display.HTML object>"
            ],
            "text/html": [
              "\n",
              "     <input type=\"file\" id=\"files-05fe2247-5826-4ff7-b5d6-09a32784fa8f\" name=\"files[]\" multiple disabled\n",
              "        style=\"border:none\" />\n",
              "     <output id=\"result-05fe2247-5826-4ff7-b5d6-09a32784fa8f\">\n",
              "      Upload widget is only available when the cell has been executed in the\n",
              "      current browser session. Please rerun this cell to enable.\n",
              "      </output>\n",
              "      <script>// Copyright 2017 Google LLC\n",
              "//\n",
              "// Licensed under the Apache License, Version 2.0 (the \"License\");\n",
              "// you may not use this file except in compliance with the License.\n",
              "// You may obtain a copy of the License at\n",
              "//\n",
              "//      http://www.apache.org/licenses/LICENSE-2.0\n",
              "//\n",
              "// Unless required by applicable law or agreed to in writing, software\n",
              "// distributed under the License is distributed on an \"AS IS\" BASIS,\n",
              "// WITHOUT WARRANTIES OR CONDITIONS OF ANY KIND, either express or implied.\n",
              "// See the License for the specific language governing permissions and\n",
              "// limitations under the License.\n",
              "\n",
              "/**\n",
              " * @fileoverview Helpers for google.colab Python module.\n",
              " */\n",
              "(function(scope) {\n",
              "function span(text, styleAttributes = {}) {\n",
              "  const element = document.createElement('span');\n",
              "  element.textContent = text;\n",
              "  for (const key of Object.keys(styleAttributes)) {\n",
              "    element.style[key] = styleAttributes[key];\n",
              "  }\n",
              "  return element;\n",
              "}\n",
              "\n",
              "// Max number of bytes which will be uploaded at a time.\n",
              "const MAX_PAYLOAD_SIZE = 100 * 1024;\n",
              "\n",
              "function _uploadFiles(inputId, outputId) {\n",
              "  const steps = uploadFilesStep(inputId, outputId);\n",
              "  const outputElement = document.getElementById(outputId);\n",
              "  // Cache steps on the outputElement to make it available for the next call\n",
              "  // to uploadFilesContinue from Python.\n",
              "  outputElement.steps = steps;\n",
              "\n",
              "  return _uploadFilesContinue(outputId);\n",
              "}\n",
              "\n",
              "// This is roughly an async generator (not supported in the browser yet),\n",
              "// where there are multiple asynchronous steps and the Python side is going\n",
              "// to poll for completion of each step.\n",
              "// This uses a Promise to block the python side on completion of each step,\n",
              "// then passes the result of the previous step as the input to the next step.\n",
              "function _uploadFilesContinue(outputId) {\n",
              "  const outputElement = document.getElementById(outputId);\n",
              "  const steps = outputElement.steps;\n",
              "\n",
              "  const next = steps.next(outputElement.lastPromiseValue);\n",
              "  return Promise.resolve(next.value.promise).then((value) => {\n",
              "    // Cache the last promise value to make it available to the next\n",
              "    // step of the generator.\n",
              "    outputElement.lastPromiseValue = value;\n",
              "    return next.value.response;\n",
              "  });\n",
              "}\n",
              "\n",
              "/**\n",
              " * Generator function which is called between each async step of the upload\n",
              " * process.\n",
              " * @param {string} inputId Element ID of the input file picker element.\n",
              " * @param {string} outputId Element ID of the output display.\n",
              " * @return {!Iterable<!Object>} Iterable of next steps.\n",
              " */\n",
              "function* uploadFilesStep(inputId, outputId) {\n",
              "  const inputElement = document.getElementById(inputId);\n",
              "  inputElement.disabled = false;\n",
              "\n",
              "  const outputElement = document.getElementById(outputId);\n",
              "  outputElement.innerHTML = '';\n",
              "\n",
              "  const pickedPromise = new Promise((resolve) => {\n",
              "    inputElement.addEventListener('change', (e) => {\n",
              "      resolve(e.target.files);\n",
              "    });\n",
              "  });\n",
              "\n",
              "  const cancel = document.createElement('button');\n",
              "  inputElement.parentElement.appendChild(cancel);\n",
              "  cancel.textContent = 'Cancel upload';\n",
              "  const cancelPromise = new Promise((resolve) => {\n",
              "    cancel.onclick = () => {\n",
              "      resolve(null);\n",
              "    };\n",
              "  });\n",
              "\n",
              "  // Wait for the user to pick the files.\n",
              "  const files = yield {\n",
              "    promise: Promise.race([pickedPromise, cancelPromise]),\n",
              "    response: {\n",
              "      action: 'starting',\n",
              "    }\n",
              "  };\n",
              "\n",
              "  cancel.remove();\n",
              "\n",
              "  // Disable the input element since further picks are not allowed.\n",
              "  inputElement.disabled = true;\n",
              "\n",
              "  if (!files) {\n",
              "    return {\n",
              "      response: {\n",
              "        action: 'complete',\n",
              "      }\n",
              "    };\n",
              "  }\n",
              "\n",
              "  for (const file of files) {\n",
              "    const li = document.createElement('li');\n",
              "    li.append(span(file.name, {fontWeight: 'bold'}));\n",
              "    li.append(span(\n",
              "        `(${file.type || 'n/a'}) - ${file.size} bytes, ` +\n",
              "        `last modified: ${\n",
              "            file.lastModifiedDate ? file.lastModifiedDate.toLocaleDateString() :\n",
              "                                    'n/a'} - `));\n",
              "    const percent = span('0% done');\n",
              "    li.appendChild(percent);\n",
              "\n",
              "    outputElement.appendChild(li);\n",
              "\n",
              "    const fileDataPromise = new Promise((resolve) => {\n",
              "      const reader = new FileReader();\n",
              "      reader.onload = (e) => {\n",
              "        resolve(e.target.result);\n",
              "      };\n",
              "      reader.readAsArrayBuffer(file);\n",
              "    });\n",
              "    // Wait for the data to be ready.\n",
              "    let fileData = yield {\n",
              "      promise: fileDataPromise,\n",
              "      response: {\n",
              "        action: 'continue',\n",
              "      }\n",
              "    };\n",
              "\n",
              "    // Use a chunked sending to avoid message size limits. See b/62115660.\n",
              "    let position = 0;\n",
              "    do {\n",
              "      const length = Math.min(fileData.byteLength - position, MAX_PAYLOAD_SIZE);\n",
              "      const chunk = new Uint8Array(fileData, position, length);\n",
              "      position += length;\n",
              "\n",
              "      const base64 = btoa(String.fromCharCode.apply(null, chunk));\n",
              "      yield {\n",
              "        response: {\n",
              "          action: 'append',\n",
              "          file: file.name,\n",
              "          data: base64,\n",
              "        },\n",
              "      };\n",
              "\n",
              "      let percentDone = fileData.byteLength === 0 ?\n",
              "          100 :\n",
              "          Math.round((position / fileData.byteLength) * 100);\n",
              "      percent.textContent = `${percentDone}% done`;\n",
              "\n",
              "    } while (position < fileData.byteLength);\n",
              "  }\n",
              "\n",
              "  // All done.\n",
              "  yield {\n",
              "    response: {\n",
              "      action: 'complete',\n",
              "    }\n",
              "  };\n",
              "}\n",
              "\n",
              "scope.google = scope.google || {};\n",
              "scope.google.colab = scope.google.colab || {};\n",
              "scope.google.colab._files = {\n",
              "  _uploadFiles,\n",
              "  _uploadFilesContinue,\n",
              "};\n",
              "})(self);\n",
              "</script> "
            ]
          },
          "metadata": {}
        },
        {
          "output_type": "stream",
          "name": "stdout",
          "text": [
            "Saving fma-rock-vs-hiphop.csv to fma-rock-vs-hiphop.csv\n"
          ]
        },
        {
          "output_type": "display_data",
          "data": {
            "text/plain": [
              "<IPython.core.display.HTML object>"
            ],
            "text/html": [
              "\n",
              "     <input type=\"file\" id=\"files-250ef999-4315-4eb0-b7d8-532554978f27\" name=\"files[]\" multiple disabled\n",
              "        style=\"border:none\" />\n",
              "     <output id=\"result-250ef999-4315-4eb0-b7d8-532554978f27\">\n",
              "      Upload widget is only available when the cell has been executed in the\n",
              "      current browser session. Please rerun this cell to enable.\n",
              "      </output>\n",
              "      <script>// Copyright 2017 Google LLC\n",
              "//\n",
              "// Licensed under the Apache License, Version 2.0 (the \"License\");\n",
              "// you may not use this file except in compliance with the License.\n",
              "// You may obtain a copy of the License at\n",
              "//\n",
              "//      http://www.apache.org/licenses/LICENSE-2.0\n",
              "//\n",
              "// Unless required by applicable law or agreed to in writing, software\n",
              "// distributed under the License is distributed on an \"AS IS\" BASIS,\n",
              "// WITHOUT WARRANTIES OR CONDITIONS OF ANY KIND, either express or implied.\n",
              "// See the License for the specific language governing permissions and\n",
              "// limitations under the License.\n",
              "\n",
              "/**\n",
              " * @fileoverview Helpers for google.colab Python module.\n",
              " */\n",
              "(function(scope) {\n",
              "function span(text, styleAttributes = {}) {\n",
              "  const element = document.createElement('span');\n",
              "  element.textContent = text;\n",
              "  for (const key of Object.keys(styleAttributes)) {\n",
              "    element.style[key] = styleAttributes[key];\n",
              "  }\n",
              "  return element;\n",
              "}\n",
              "\n",
              "// Max number of bytes which will be uploaded at a time.\n",
              "const MAX_PAYLOAD_SIZE = 100 * 1024;\n",
              "\n",
              "function _uploadFiles(inputId, outputId) {\n",
              "  const steps = uploadFilesStep(inputId, outputId);\n",
              "  const outputElement = document.getElementById(outputId);\n",
              "  // Cache steps on the outputElement to make it available for the next call\n",
              "  // to uploadFilesContinue from Python.\n",
              "  outputElement.steps = steps;\n",
              "\n",
              "  return _uploadFilesContinue(outputId);\n",
              "}\n",
              "\n",
              "// This is roughly an async generator (not supported in the browser yet),\n",
              "// where there are multiple asynchronous steps and the Python side is going\n",
              "// to poll for completion of each step.\n",
              "// This uses a Promise to block the python side on completion of each step,\n",
              "// then passes the result of the previous step as the input to the next step.\n",
              "function _uploadFilesContinue(outputId) {\n",
              "  const outputElement = document.getElementById(outputId);\n",
              "  const steps = outputElement.steps;\n",
              "\n",
              "  const next = steps.next(outputElement.lastPromiseValue);\n",
              "  return Promise.resolve(next.value.promise).then((value) => {\n",
              "    // Cache the last promise value to make it available to the next\n",
              "    // step of the generator.\n",
              "    outputElement.lastPromiseValue = value;\n",
              "    return next.value.response;\n",
              "  });\n",
              "}\n",
              "\n",
              "/**\n",
              " * Generator function which is called between each async step of the upload\n",
              " * process.\n",
              " * @param {string} inputId Element ID of the input file picker element.\n",
              " * @param {string} outputId Element ID of the output display.\n",
              " * @return {!Iterable<!Object>} Iterable of next steps.\n",
              " */\n",
              "function* uploadFilesStep(inputId, outputId) {\n",
              "  const inputElement = document.getElementById(inputId);\n",
              "  inputElement.disabled = false;\n",
              "\n",
              "  const outputElement = document.getElementById(outputId);\n",
              "  outputElement.innerHTML = '';\n",
              "\n",
              "  const pickedPromise = new Promise((resolve) => {\n",
              "    inputElement.addEventListener('change', (e) => {\n",
              "      resolve(e.target.files);\n",
              "    });\n",
              "  });\n",
              "\n",
              "  const cancel = document.createElement('button');\n",
              "  inputElement.parentElement.appendChild(cancel);\n",
              "  cancel.textContent = 'Cancel upload';\n",
              "  const cancelPromise = new Promise((resolve) => {\n",
              "    cancel.onclick = () => {\n",
              "      resolve(null);\n",
              "    };\n",
              "  });\n",
              "\n",
              "  // Wait for the user to pick the files.\n",
              "  const files = yield {\n",
              "    promise: Promise.race([pickedPromise, cancelPromise]),\n",
              "    response: {\n",
              "      action: 'starting',\n",
              "    }\n",
              "  };\n",
              "\n",
              "  cancel.remove();\n",
              "\n",
              "  // Disable the input element since further picks are not allowed.\n",
              "  inputElement.disabled = true;\n",
              "\n",
              "  if (!files) {\n",
              "    return {\n",
              "      response: {\n",
              "        action: 'complete',\n",
              "      }\n",
              "    };\n",
              "  }\n",
              "\n",
              "  for (const file of files) {\n",
              "    const li = document.createElement('li');\n",
              "    li.append(span(file.name, {fontWeight: 'bold'}));\n",
              "    li.append(span(\n",
              "        `(${file.type || 'n/a'}) - ${file.size} bytes, ` +\n",
              "        `last modified: ${\n",
              "            file.lastModifiedDate ? file.lastModifiedDate.toLocaleDateString() :\n",
              "                                    'n/a'} - `));\n",
              "    const percent = span('0% done');\n",
              "    li.appendChild(percent);\n",
              "\n",
              "    outputElement.appendChild(li);\n",
              "\n",
              "    const fileDataPromise = new Promise((resolve) => {\n",
              "      const reader = new FileReader();\n",
              "      reader.onload = (e) => {\n",
              "        resolve(e.target.result);\n",
              "      };\n",
              "      reader.readAsArrayBuffer(file);\n",
              "    });\n",
              "    // Wait for the data to be ready.\n",
              "    let fileData = yield {\n",
              "      promise: fileDataPromise,\n",
              "      response: {\n",
              "        action: 'continue',\n",
              "      }\n",
              "    };\n",
              "\n",
              "    // Use a chunked sending to avoid message size limits. See b/62115660.\n",
              "    let position = 0;\n",
              "    do {\n",
              "      const length = Math.min(fileData.byteLength - position, MAX_PAYLOAD_SIZE);\n",
              "      const chunk = new Uint8Array(fileData, position, length);\n",
              "      position += length;\n",
              "\n",
              "      const base64 = btoa(String.fromCharCode.apply(null, chunk));\n",
              "      yield {\n",
              "        response: {\n",
              "          action: 'append',\n",
              "          file: file.name,\n",
              "          data: base64,\n",
              "        },\n",
              "      };\n",
              "\n",
              "      let percentDone = fileData.byteLength === 0 ?\n",
              "          100 :\n",
              "          Math.round((position / fileData.byteLength) * 100);\n",
              "      percent.textContent = `${percentDone}% done`;\n",
              "\n",
              "    } while (position < fileData.byteLength);\n",
              "  }\n",
              "\n",
              "  // All done.\n",
              "  yield {\n",
              "    response: {\n",
              "      action: 'complete',\n",
              "    }\n",
              "  };\n",
              "}\n",
              "\n",
              "scope.google = scope.google || {};\n",
              "scope.google.colab = scope.google.colab || {};\n",
              "scope.google.colab._files = {\n",
              "  _uploadFiles,\n",
              "  _uploadFilesContinue,\n",
              "};\n",
              "})(self);\n",
              "</script> "
            ]
          },
          "metadata": {}
        },
        {
          "output_type": "stream",
          "name": "stdout",
          "text": [
            "Saving echonest-metrics.json to echonest-metrics.json\n"
          ]
        }
      ]
    },
    {
      "outputs": [
        {
          "output_type": "execute_result",
          "data": {
            "text/plain": [
              "   track_id  acousticness  danceability    energy  instrumentalness  liveness  \\\n",
              "0         2      0.416675      0.675894  0.634476          0.010628  0.177647   \n",
              "1         3      0.374408      0.528643  0.817461          0.001851  0.105880   \n",
              "2         5      0.043567      0.745566  0.701470          0.000697  0.373143   \n",
              "3       134      0.452217      0.513238  0.560410          0.019443  0.096567   \n",
              "4       153      0.988306      0.255661  0.979774          0.973006  0.121342   \n",
              "\n",
              "   speechiness    tempo   valence genre_top  \n",
              "0     0.159310  165.922  0.576661   Hip-Hop  \n",
              "1     0.461818  126.957  0.269240   Hip-Hop  \n",
              "2     0.124595  100.260  0.621661   Hip-Hop  \n",
              "3     0.525519  114.290  0.894072   Hip-Hop  \n",
              "4     0.051740   90.241  0.034018      Rock  "
            ],
            "text/html": [
              "\n",
              "  <div id=\"df-37ef4794-2873-4897-8f6d-4c2415b185d3\">\n",
              "    <div class=\"colab-df-container\">\n",
              "      <div>\n",
              "<style scoped>\n",
              "    .dataframe tbody tr th:only-of-type {\n",
              "        vertical-align: middle;\n",
              "    }\n",
              "\n",
              "    .dataframe tbody tr th {\n",
              "        vertical-align: top;\n",
              "    }\n",
              "\n",
              "    .dataframe thead th {\n",
              "        text-align: right;\n",
              "    }\n",
              "</style>\n",
              "<table border=\"1\" class=\"dataframe\">\n",
              "  <thead>\n",
              "    <tr style=\"text-align: right;\">\n",
              "      <th></th>\n",
              "      <th>track_id</th>\n",
              "      <th>acousticness</th>\n",
              "      <th>danceability</th>\n",
              "      <th>energy</th>\n",
              "      <th>instrumentalness</th>\n",
              "      <th>liveness</th>\n",
              "      <th>speechiness</th>\n",
              "      <th>tempo</th>\n",
              "      <th>valence</th>\n",
              "      <th>genre_top</th>\n",
              "    </tr>\n",
              "  </thead>\n",
              "  <tbody>\n",
              "    <tr>\n",
              "      <th>0</th>\n",
              "      <td>2</td>\n",
              "      <td>0.416675</td>\n",
              "      <td>0.675894</td>\n",
              "      <td>0.634476</td>\n",
              "      <td>0.010628</td>\n",
              "      <td>0.177647</td>\n",
              "      <td>0.159310</td>\n",
              "      <td>165.922</td>\n",
              "      <td>0.576661</td>\n",
              "      <td>Hip-Hop</td>\n",
              "    </tr>\n",
              "    <tr>\n",
              "      <th>1</th>\n",
              "      <td>3</td>\n",
              "      <td>0.374408</td>\n",
              "      <td>0.528643</td>\n",
              "      <td>0.817461</td>\n",
              "      <td>0.001851</td>\n",
              "      <td>0.105880</td>\n",
              "      <td>0.461818</td>\n",
              "      <td>126.957</td>\n",
              "      <td>0.269240</td>\n",
              "      <td>Hip-Hop</td>\n",
              "    </tr>\n",
              "    <tr>\n",
              "      <th>2</th>\n",
              "      <td>5</td>\n",
              "      <td>0.043567</td>\n",
              "      <td>0.745566</td>\n",
              "      <td>0.701470</td>\n",
              "      <td>0.000697</td>\n",
              "      <td>0.373143</td>\n",
              "      <td>0.124595</td>\n",
              "      <td>100.260</td>\n",
              "      <td>0.621661</td>\n",
              "      <td>Hip-Hop</td>\n",
              "    </tr>\n",
              "    <tr>\n",
              "      <th>3</th>\n",
              "      <td>134</td>\n",
              "      <td>0.452217</td>\n",
              "      <td>0.513238</td>\n",
              "      <td>0.560410</td>\n",
              "      <td>0.019443</td>\n",
              "      <td>0.096567</td>\n",
              "      <td>0.525519</td>\n",
              "      <td>114.290</td>\n",
              "      <td>0.894072</td>\n",
              "      <td>Hip-Hop</td>\n",
              "    </tr>\n",
              "    <tr>\n",
              "      <th>4</th>\n",
              "      <td>153</td>\n",
              "      <td>0.988306</td>\n",
              "      <td>0.255661</td>\n",
              "      <td>0.979774</td>\n",
              "      <td>0.973006</td>\n",
              "      <td>0.121342</td>\n",
              "      <td>0.051740</td>\n",
              "      <td>90.241</td>\n",
              "      <td>0.034018</td>\n",
              "      <td>Rock</td>\n",
              "    </tr>\n",
              "  </tbody>\n",
              "</table>\n",
              "</div>\n",
              "      <button class=\"colab-df-convert\" onclick=\"convertToInteractive('df-37ef4794-2873-4897-8f6d-4c2415b185d3')\"\n",
              "              title=\"Convert this dataframe to an interactive table.\"\n",
              "              style=\"display:none;\">\n",
              "        \n",
              "  <svg xmlns=\"http://www.w3.org/2000/svg\" height=\"24px\"viewBox=\"0 0 24 24\"\n",
              "       width=\"24px\">\n",
              "    <path d=\"M0 0h24v24H0V0z\" fill=\"none\"/>\n",
              "    <path d=\"M18.56 5.44l.94 2.06.94-2.06 2.06-.94-2.06-.94-.94-2.06-.94 2.06-2.06.94zm-11 1L8.5 8.5l.94-2.06 2.06-.94-2.06-.94L8.5 2.5l-.94 2.06-2.06.94zm10 10l.94 2.06.94-2.06 2.06-.94-2.06-.94-.94-2.06-.94 2.06-2.06.94z\"/><path d=\"M17.41 7.96l-1.37-1.37c-.4-.4-.92-.59-1.43-.59-.52 0-1.04.2-1.43.59L10.3 9.45l-7.72 7.72c-.78.78-.78 2.05 0 2.83L4 21.41c.39.39.9.59 1.41.59.51 0 1.02-.2 1.41-.59l7.78-7.78 2.81-2.81c.8-.78.8-2.07 0-2.86zM5.41 20L4 18.59l7.72-7.72 1.47 1.35L5.41 20z\"/>\n",
              "  </svg>\n",
              "      </button>\n",
              "      \n",
              "  <style>\n",
              "    .colab-df-container {\n",
              "      display:flex;\n",
              "      flex-wrap:wrap;\n",
              "      gap: 12px;\n",
              "    }\n",
              "\n",
              "    .colab-df-convert {\n",
              "      background-color: #E8F0FE;\n",
              "      border: none;\n",
              "      border-radius: 50%;\n",
              "      cursor: pointer;\n",
              "      display: none;\n",
              "      fill: #1967D2;\n",
              "      height: 32px;\n",
              "      padding: 0 0 0 0;\n",
              "      width: 32px;\n",
              "    }\n",
              "\n",
              "    .colab-df-convert:hover {\n",
              "      background-color: #E2EBFA;\n",
              "      box-shadow: 0px 1px 2px rgba(60, 64, 67, 0.3), 0px 1px 3px 1px rgba(60, 64, 67, 0.15);\n",
              "      fill: #174EA6;\n",
              "    }\n",
              "\n",
              "    [theme=dark] .colab-df-convert {\n",
              "      background-color: #3B4455;\n",
              "      fill: #D2E3FC;\n",
              "    }\n",
              "\n",
              "    [theme=dark] .colab-df-convert:hover {\n",
              "      background-color: #434B5C;\n",
              "      box-shadow: 0px 1px 3px 1px rgba(0, 0, 0, 0.15);\n",
              "      filter: drop-shadow(0px 1px 2px rgba(0, 0, 0, 0.3));\n",
              "      fill: #FFFFFF;\n",
              "    }\n",
              "  </style>\n",
              "\n",
              "      <script>\n",
              "        const buttonEl =\n",
              "          document.querySelector('#df-37ef4794-2873-4897-8f6d-4c2415b185d3 button.colab-df-convert');\n",
              "        buttonEl.style.display =\n",
              "          google.colab.kernel.accessAllowed ? 'block' : 'none';\n",
              "\n",
              "        async function convertToInteractive(key) {\n",
              "          const element = document.querySelector('#df-37ef4794-2873-4897-8f6d-4c2415b185d3');\n",
              "          const dataTable =\n",
              "            await google.colab.kernel.invokeFunction('convertToInteractive',\n",
              "                                                     [key], {});\n",
              "          if (!dataTable) return;\n",
              "\n",
              "          const docLinkHtml = 'Like what you see? Visit the ' +\n",
              "            '<a target=\"_blank\" href=https://colab.research.google.com/notebooks/data_table.ipynb>data table notebook</a>'\n",
              "            + ' to learn more about interactive tables.';\n",
              "          element.innerHTML = '';\n",
              "          dataTable['output_type'] = 'display_data';\n",
              "          await google.colab.output.renderOutput(dataTable, element);\n",
              "          const docLink = document.createElement('div');\n",
              "          docLink.innerHTML = docLinkHtml;\n",
              "          element.appendChild(docLink);\n",
              "        }\n",
              "      </script>\n",
              "    </div>\n",
              "  </div>\n",
              "  "
            ]
          },
          "metadata": {},
          "execution_count": 2
        }
      ],
      "execution_count": 2,
      "cell_type": "code",
      "metadata": {
        "trusted": false,
        "tags": [
          "sample_code"
        ],
        "dc": {
          "key": "3"
        },
        "collapsed": true,
        "colab": {
          "base_uri": "https://localhost:8080/",
          "height": 206
        },
        "id": "quSdKA-QM0h9",
        "outputId": "59117fe4-30dc-427e-d0dd-e8aaad93f057"
      },
      "source": [
        "import pandas as pd\n",
        "\n",
        "# Dados\n",
        "tracks = pd.read_csv('fma-rock-vs-hiphop.csv')\n",
        "echonest_metrics = pd.read_json('echonest-metrics.json', precise_float=True)\n",
        "\n",
        "# Merge entre as colunas relevantes das bases de dados 'separadas'\n",
        "data_echotracks = echonest_metrics.merge(tracks[['genre_top', 'track_id']], on='track_id')\n",
        "\n",
        "data_echotracks.head(5)"
      ]
    },
    {
      "cell_type": "code",
      "source": [
        "from skimpy import skim\n",
        "\n",
        "# Inspecionando os dados\n",
        "skim(data_echotracks)"
      ],
      "metadata": {
        "colab": {
          "base_uri": "https://localhost:8080/",
          "height": 497
        },
        "id": "TiEvwgygVM4t",
        "outputId": "1311b993-f1f3-4b7b-8dbc-f3731c43afdb"
      },
      "execution_count": 5,
      "outputs": [
        {
          "output_type": "display_data",
          "data": {
            "text/plain": [
              "╭──────────────────────────────────────────────── skimpy summary ─────────────────────────────────────────────────╮\n",
              "│ \u001b[3m         Data Summary         \u001b[0m \u001b[3m      Data Types       \u001b[0m                                                          │\n",
              "│ ┏━━━━━━━━━━━━━━━━━━━┳━━━━━━━━┓ ┏━━━━━━━━━━━━━┳━━━━━━━┓                                                          │\n",
              "│ ┃\u001b[1;36m \u001b[0m\u001b[1;36mdataframe        \u001b[0m\u001b[1;36m \u001b[0m┃\u001b[1;36m \u001b[0m\u001b[1;36mValues\u001b[0m\u001b[1;36m \u001b[0m┃ ┃\u001b[1;36m \u001b[0m\u001b[1;36mColumn Type\u001b[0m\u001b[1;36m \u001b[0m┃\u001b[1;36m \u001b[0m\u001b[1;36mCount\u001b[0m\u001b[1;36m \u001b[0m┃                                                          │\n",
              "│ ┡━━━━━━━━━━━━━━━━━━━╇━━━━━━━━┩ ┡━━━━━━━━━━━━━╇━━━━━━━┩                                                          │\n",
              "│ │ Number of rows    │ 4802   │ │ float64     │ 8     │                                                          │\n",
              "│ │ Number of columns │ 10     │ │ int64       │ 1     │                                                          │\n",
              "│ └───────────────────┴────────┘ │ string      │ 1     │                                                          │\n",
              "│                                └─────────────┴───────┘                                                          │\n",
              "│ \u001b[3m                                                    number                                                    \u001b[0m  │\n",
              "│ ┏━━━━━━━━━━━━━━━━━━━━━━┳━━━━━┳━━━━━━━━┳━━━━━━━━━┳━━━━━━━━━┳━━━━━━━━━━━┳━━━━━━━━━┳━━━━━━━━┳━━━━━━━━━┳━━━━━━━━━┓  │\n",
              "│ ┃\u001b[1m \u001b[0m\u001b[1mcolumn_name         \u001b[0m\u001b[1m \u001b[0m┃\u001b[1m \u001b[0m\u001b[1mNA \u001b[0m\u001b[1m \u001b[0m┃\u001b[1m \u001b[0m\u001b[1mNA %  \u001b[0m\u001b[1m \u001b[0m┃\u001b[1m \u001b[0m\u001b[1mmean   \u001b[0m\u001b[1m \u001b[0m┃\u001b[1m \u001b[0m\u001b[1msd     \u001b[0m\u001b[1m \u001b[0m┃\u001b[1m \u001b[0m\u001b[1mp0       \u001b[0m\u001b[1m \u001b[0m┃\u001b[1m \u001b[0m\u001b[1mp25    \u001b[0m\u001b[1m \u001b[0m┃\u001b[1m \u001b[0m\u001b[1mp75   \u001b[0m\u001b[1m \u001b[0m┃\u001b[1m \u001b[0m\u001b[1mp100   \u001b[0m\u001b[1m \u001b[0m┃\u001b[1m \u001b[0m\u001b[1mhist   \u001b[0m\u001b[1m \u001b[0m┃  │\n",
              "│ ┡━━━━━━━━━━━━━━━━━━━━━━╇━━━━━╇━━━━━━━━╇━━━━━━━━━╇━━━━━━━━━╇━━━━━━━━━━━╇━━━━━━━━━╇━━━━━━━━╇━━━━━━━━━╇━━━━━━━━━┩  │\n",
              "│ │ \u001b[38;5;141mtrack_id            \u001b[0m │ \u001b[36m  0\u001b[0m │ \u001b[36m     0\u001b[0m │ \u001b[36m  30000\u001b[0m │ \u001b[36m  29000\u001b[0m │ \u001b[36m        2\u001b[0m │ \u001b[36m   7500\u001b[0m │ \u001b[36m 44000\u001b[0m │ \u001b[36m 120000\u001b[0m │ \u001b[32m█▃▂▁ ▁ \u001b[0m │  │\n",
              "│ │ \u001b[38;5;141macousticness        \u001b[0m │ \u001b[36m  0\u001b[0m │ \u001b[36m     0\u001b[0m │ \u001b[36m   0.49\u001b[0m │ \u001b[36m   0.37\u001b[0m │ \u001b[36m  9.5e-07\u001b[0m │ \u001b[36m  0.084\u001b[0m │ \u001b[36m  0.86\u001b[0m │ \u001b[36m      1\u001b[0m │ \u001b[32m█▃▂▃▃▇ \u001b[0m │  │\n",
              "│ │ \u001b[38;5;141mdanceability        \u001b[0m │ \u001b[36m  0\u001b[0m │ \u001b[36m     0\u001b[0m │ \u001b[36m   0.44\u001b[0m │ \u001b[36m   0.18\u001b[0m │ \u001b[36m    0.051\u001b[0m │ \u001b[36m    0.3\u001b[0m │ \u001b[36m  0.57\u001b[0m │ \u001b[36m   0.96\u001b[0m │ \u001b[32m▃▇█▆▃▁ \u001b[0m │  │\n",
              "│ │ \u001b[38;5;141menergy              \u001b[0m │ \u001b[36m  0\u001b[0m │ \u001b[36m     0\u001b[0m │ \u001b[36m   0.63\u001b[0m │ \u001b[36m   0.24\u001b[0m │ \u001b[36m  0.00028\u001b[0m │ \u001b[36m   0.45\u001b[0m │ \u001b[36m  0.84\u001b[0m │ \u001b[36m      1\u001b[0m │ \u001b[32m▁▃▅▇▇█ \u001b[0m │  │\n",
              "│ │ \u001b[38;5;141minstrumentalness    \u001b[0m │ \u001b[36m  0\u001b[0m │ \u001b[36m     0\u001b[0m │ \u001b[36m    0.6\u001b[0m │ \u001b[36m   0.38\u001b[0m │ \u001b[36m        0\u001b[0m │ \u001b[36m   0.16\u001b[0m │ \u001b[36m  0.92\u001b[0m │ \u001b[36m   0.99\u001b[0m │ \u001b[32m▄▁▁▁▂█ \u001b[0m │  │\n",
              "│ │ \u001b[38;5;141mliveness            \u001b[0m │ \u001b[36m  0\u001b[0m │ \u001b[36m     0\u001b[0m │ \u001b[36m   0.19\u001b[0m │ \u001b[36m   0.15\u001b[0m │ \u001b[36m    0.025\u001b[0m │ \u001b[36m    0.1\u001b[0m │ \u001b[36m  0.22\u001b[0m │ \u001b[36m   0.97\u001b[0m │ \u001b[32m  █▂▁  \u001b[0m │  │\n",
              "│ │ \u001b[38;5;141mspeechiness         \u001b[0m │ \u001b[36m  0\u001b[0m │ \u001b[36m     0\u001b[0m │ \u001b[36m    0.1\u001b[0m │ \u001b[36m   0.15\u001b[0m │ \u001b[36m    0.023\u001b[0m │ \u001b[36m  0.037\u001b[0m │ \u001b[36m 0.088\u001b[0m │ \u001b[36m   0.97\u001b[0m │ \u001b[32m  █▁   \u001b[0m │  │\n",
              "│ │ \u001b[38;5;141mtempo               \u001b[0m │ \u001b[36m  0\u001b[0m │ \u001b[36m     0\u001b[0m │ \u001b[36m    130\u001b[0m │ \u001b[36m     34\u001b[0m │ \u001b[36m       29\u001b[0m │ \u001b[36m     98\u001b[0m │ \u001b[36m   150\u001b[0m │ \u001b[36m    250\u001b[0m │ \u001b[32m  ▇█▆▂ \u001b[0m │  │\n",
              "│ │ \u001b[38;5;141mvalence             \u001b[0m │ \u001b[36m  0\u001b[0m │ \u001b[36m     0\u001b[0m │ \u001b[36m   0.45\u001b[0m │ \u001b[36m   0.27\u001b[0m │ \u001b[36m    0.014\u001b[0m │ \u001b[36m   0.22\u001b[0m │ \u001b[36m  0.67\u001b[0m │ \u001b[36m   0.98\u001b[0m │ \u001b[32m█▇█▇▆▄ \u001b[0m │  │\n",
              "│ └──────────────────────┴─────┴────────┴─────────┴─────────┴───────────┴─────────┴────────┴─────────┴─────────┘  │\n",
              "│ \u001b[3m                                                    string                                                    \u001b[0m  │\n",
              "│ ┏━━━━━━━━━━━━━━━━━━━━━━━━━━━┳━━━━━━━━━┳━━━━━━━━━━━━┳━━━━━━━━━━━━━━━━━━━━━━━━━━━━━━┳━━━━━━━━━━━━━━━━━━━━━━━━━━┓  │\n",
              "│ ┃\u001b[1m \u001b[0m\u001b[1mcolumn_name              \u001b[0m\u001b[1m \u001b[0m┃\u001b[1m \u001b[0m\u001b[1mNA     \u001b[0m\u001b[1m \u001b[0m┃\u001b[1m \u001b[0m\u001b[1mNA %      \u001b[0m\u001b[1m \u001b[0m┃\u001b[1m \u001b[0m\u001b[1mwords per row               \u001b[0m\u001b[1m \u001b[0m┃\u001b[1m \u001b[0m\u001b[1mtotal words             \u001b[0m\u001b[1m \u001b[0m┃  │\n",
              "│ ┡━━━━━━━━━━━━━━━━━━━━━━━━━━━╇━━━━━━━━━╇━━━━━━━━━━━━╇━━━━━━━━━━━━━━━━━━━━━━━━━━━━━━╇━━━━━━━━━━━━━━━━━━━━━━━━━━┩  │\n",
              "│ │ \u001b[38;5;141mgenre_top                \u001b[0m │ \u001b[36m      0\u001b[0m │ \u001b[36m         0\u001b[0m │ \u001b[36m                           1\u001b[0m │ \u001b[36m                    4800\u001b[0m │  │\n",
              "│ └───────────────────────────┴─────────┴────────────┴──────────────────────────────┴──────────────────────────┘  │\n",
              "╰────────────────────────────────────────────────────── End ──────────────────────────────────────────────────────╯\n"
            ],
            "text/html": [
              "<pre style=\"white-space:pre;overflow-x:auto;line-height:normal;font-family:Menlo,'DejaVu Sans Mono',consolas,'Courier New',monospace\">╭──────────────────────────────────────────────── skimpy summary ─────────────────────────────────────────────────╮\n",
              "│ <span style=\"font-style: italic\">         Data Summary         </span> <span style=\"font-style: italic\">      Data Types       </span>                                                          │\n",
              "│ ┏━━━━━━━━━━━━━━━━━━━┳━━━━━━━━┓ ┏━━━━━━━━━━━━━┳━━━━━━━┓                                                          │\n",
              "│ ┃<span style=\"color: #008080; text-decoration-color: #008080; font-weight: bold\"> dataframe         </span>┃<span style=\"color: #008080; text-decoration-color: #008080; font-weight: bold\"> Values </span>┃ ┃<span style=\"color: #008080; text-decoration-color: #008080; font-weight: bold\"> Column Type </span>┃<span style=\"color: #008080; text-decoration-color: #008080; font-weight: bold\"> Count </span>┃                                                          │\n",
              "│ ┡━━━━━━━━━━━━━━━━━━━╇━━━━━━━━┩ ┡━━━━━━━━━━━━━╇━━━━━━━┩                                                          │\n",
              "│ │ Number of rows    │ 4802   │ │ float64     │ 8     │                                                          │\n",
              "│ │ Number of columns │ 10     │ │ int64       │ 1     │                                                          │\n",
              "│ └───────────────────┴────────┘ │ string      │ 1     │                                                          │\n",
              "│                                └─────────────┴───────┘                                                          │\n",
              "│ <span style=\"font-style: italic\">                                                    number                                                    </span>  │\n",
              "│ ┏━━━━━━━━━━━━━━━━━━━━━━┳━━━━━┳━━━━━━━━┳━━━━━━━━━┳━━━━━━━━━┳━━━━━━━━━━━┳━━━━━━━━━┳━━━━━━━━┳━━━━━━━━━┳━━━━━━━━━┓  │\n",
              "│ ┃<span style=\"font-weight: bold\"> column_name          </span>┃<span style=\"font-weight: bold\"> NA  </span>┃<span style=\"font-weight: bold\"> NA %   </span>┃<span style=\"font-weight: bold\"> mean    </span>┃<span style=\"font-weight: bold\"> sd      </span>┃<span style=\"font-weight: bold\"> p0        </span>┃<span style=\"font-weight: bold\"> p25     </span>┃<span style=\"font-weight: bold\"> p75    </span>┃<span style=\"font-weight: bold\"> p100    </span>┃<span style=\"font-weight: bold\"> hist    </span>┃  │\n",
              "│ ┡━━━━━━━━━━━━━━━━━━━━━━╇━━━━━╇━━━━━━━━╇━━━━━━━━━╇━━━━━━━━━╇━━━━━━━━━━━╇━━━━━━━━━╇━━━━━━━━╇━━━━━━━━━╇━━━━━━━━━┩  │\n",
              "│ │ <span style=\"color: #af87ff; text-decoration-color: #af87ff\">track_id            </span> │ <span style=\"color: #008080; text-decoration-color: #008080\">  0</span> │ <span style=\"color: #008080; text-decoration-color: #008080\">     0</span> │ <span style=\"color: #008080; text-decoration-color: #008080\">  30000</span> │ <span style=\"color: #008080; text-decoration-color: #008080\">  29000</span> │ <span style=\"color: #008080; text-decoration-color: #008080\">        2</span> │ <span style=\"color: #008080; text-decoration-color: #008080\">   7500</span> │ <span style=\"color: #008080; text-decoration-color: #008080\"> 44000</span> │ <span style=\"color: #008080; text-decoration-color: #008080\"> 120000</span> │ <span style=\"color: #008000; text-decoration-color: #008000\">█▃▂▁ ▁ </span> │  │\n",
              "│ │ <span style=\"color: #af87ff; text-decoration-color: #af87ff\">acousticness        </span> │ <span style=\"color: #008080; text-decoration-color: #008080\">  0</span> │ <span style=\"color: #008080; text-decoration-color: #008080\">     0</span> │ <span style=\"color: #008080; text-decoration-color: #008080\">   0.49</span> │ <span style=\"color: #008080; text-decoration-color: #008080\">   0.37</span> │ <span style=\"color: #008080; text-decoration-color: #008080\">  9.5e-07</span> │ <span style=\"color: #008080; text-decoration-color: #008080\">  0.084</span> │ <span style=\"color: #008080; text-decoration-color: #008080\">  0.86</span> │ <span style=\"color: #008080; text-decoration-color: #008080\">      1</span> │ <span style=\"color: #008000; text-decoration-color: #008000\">█▃▂▃▃▇ </span> │  │\n",
              "│ │ <span style=\"color: #af87ff; text-decoration-color: #af87ff\">danceability        </span> │ <span style=\"color: #008080; text-decoration-color: #008080\">  0</span> │ <span style=\"color: #008080; text-decoration-color: #008080\">     0</span> │ <span style=\"color: #008080; text-decoration-color: #008080\">   0.44</span> │ <span style=\"color: #008080; text-decoration-color: #008080\">   0.18</span> │ <span style=\"color: #008080; text-decoration-color: #008080\">    0.051</span> │ <span style=\"color: #008080; text-decoration-color: #008080\">    0.3</span> │ <span style=\"color: #008080; text-decoration-color: #008080\">  0.57</span> │ <span style=\"color: #008080; text-decoration-color: #008080\">   0.96</span> │ <span style=\"color: #008000; text-decoration-color: #008000\">▃▇█▆▃▁ </span> │  │\n",
              "│ │ <span style=\"color: #af87ff; text-decoration-color: #af87ff\">energy              </span> │ <span style=\"color: #008080; text-decoration-color: #008080\">  0</span> │ <span style=\"color: #008080; text-decoration-color: #008080\">     0</span> │ <span style=\"color: #008080; text-decoration-color: #008080\">   0.63</span> │ <span style=\"color: #008080; text-decoration-color: #008080\">   0.24</span> │ <span style=\"color: #008080; text-decoration-color: #008080\">  0.00028</span> │ <span style=\"color: #008080; text-decoration-color: #008080\">   0.45</span> │ <span style=\"color: #008080; text-decoration-color: #008080\">  0.84</span> │ <span style=\"color: #008080; text-decoration-color: #008080\">      1</span> │ <span style=\"color: #008000; text-decoration-color: #008000\">▁▃▅▇▇█ </span> │  │\n",
              "│ │ <span style=\"color: #af87ff; text-decoration-color: #af87ff\">instrumentalness    </span> │ <span style=\"color: #008080; text-decoration-color: #008080\">  0</span> │ <span style=\"color: #008080; text-decoration-color: #008080\">     0</span> │ <span style=\"color: #008080; text-decoration-color: #008080\">    0.6</span> │ <span style=\"color: #008080; text-decoration-color: #008080\">   0.38</span> │ <span style=\"color: #008080; text-decoration-color: #008080\">        0</span> │ <span style=\"color: #008080; text-decoration-color: #008080\">   0.16</span> │ <span style=\"color: #008080; text-decoration-color: #008080\">  0.92</span> │ <span style=\"color: #008080; text-decoration-color: #008080\">   0.99</span> │ <span style=\"color: #008000; text-decoration-color: #008000\">▄▁▁▁▂█ </span> │  │\n",
              "│ │ <span style=\"color: #af87ff; text-decoration-color: #af87ff\">liveness            </span> │ <span style=\"color: #008080; text-decoration-color: #008080\">  0</span> │ <span style=\"color: #008080; text-decoration-color: #008080\">     0</span> │ <span style=\"color: #008080; text-decoration-color: #008080\">   0.19</span> │ <span style=\"color: #008080; text-decoration-color: #008080\">   0.15</span> │ <span style=\"color: #008080; text-decoration-color: #008080\">    0.025</span> │ <span style=\"color: #008080; text-decoration-color: #008080\">    0.1</span> │ <span style=\"color: #008080; text-decoration-color: #008080\">  0.22</span> │ <span style=\"color: #008080; text-decoration-color: #008080\">   0.97</span> │ <span style=\"color: #008000; text-decoration-color: #008000\">  █▂▁  </span> │  │\n",
              "│ │ <span style=\"color: #af87ff; text-decoration-color: #af87ff\">speechiness         </span> │ <span style=\"color: #008080; text-decoration-color: #008080\">  0</span> │ <span style=\"color: #008080; text-decoration-color: #008080\">     0</span> │ <span style=\"color: #008080; text-decoration-color: #008080\">    0.1</span> │ <span style=\"color: #008080; text-decoration-color: #008080\">   0.15</span> │ <span style=\"color: #008080; text-decoration-color: #008080\">    0.023</span> │ <span style=\"color: #008080; text-decoration-color: #008080\">  0.037</span> │ <span style=\"color: #008080; text-decoration-color: #008080\"> 0.088</span> │ <span style=\"color: #008080; text-decoration-color: #008080\">   0.97</span> │ <span style=\"color: #008000; text-decoration-color: #008000\">  █▁   </span> │  │\n",
              "│ │ <span style=\"color: #af87ff; text-decoration-color: #af87ff\">tempo               </span> │ <span style=\"color: #008080; text-decoration-color: #008080\">  0</span> │ <span style=\"color: #008080; text-decoration-color: #008080\">     0</span> │ <span style=\"color: #008080; text-decoration-color: #008080\">    130</span> │ <span style=\"color: #008080; text-decoration-color: #008080\">     34</span> │ <span style=\"color: #008080; text-decoration-color: #008080\">       29</span> │ <span style=\"color: #008080; text-decoration-color: #008080\">     98</span> │ <span style=\"color: #008080; text-decoration-color: #008080\">   150</span> │ <span style=\"color: #008080; text-decoration-color: #008080\">    250</span> │ <span style=\"color: #008000; text-decoration-color: #008000\">  ▇█▆▂ </span> │  │\n",
              "│ │ <span style=\"color: #af87ff; text-decoration-color: #af87ff\">valence             </span> │ <span style=\"color: #008080; text-decoration-color: #008080\">  0</span> │ <span style=\"color: #008080; text-decoration-color: #008080\">     0</span> │ <span style=\"color: #008080; text-decoration-color: #008080\">   0.45</span> │ <span style=\"color: #008080; text-decoration-color: #008080\">   0.27</span> │ <span style=\"color: #008080; text-decoration-color: #008080\">    0.014</span> │ <span style=\"color: #008080; text-decoration-color: #008080\">   0.22</span> │ <span style=\"color: #008080; text-decoration-color: #008080\">  0.67</span> │ <span style=\"color: #008080; text-decoration-color: #008080\">   0.98</span> │ <span style=\"color: #008000; text-decoration-color: #008000\">█▇█▇▆▄ </span> │  │\n",
              "│ └──────────────────────┴─────┴────────┴─────────┴─────────┴───────────┴─────────┴────────┴─────────┴─────────┘  │\n",
              "│ <span style=\"font-style: italic\">                                                    string                                                    </span>  │\n",
              "│ ┏━━━━━━━━━━━━━━━━━━━━━━━━━━━┳━━━━━━━━━┳━━━━━━━━━━━━┳━━━━━━━━━━━━━━━━━━━━━━━━━━━━━━┳━━━━━━━━━━━━━━━━━━━━━━━━━━┓  │\n",
              "│ ┃<span style=\"font-weight: bold\"> column_name               </span>┃<span style=\"font-weight: bold\"> NA      </span>┃<span style=\"font-weight: bold\"> NA %       </span>┃<span style=\"font-weight: bold\"> words per row                </span>┃<span style=\"font-weight: bold\"> total words              </span>┃  │\n",
              "│ ┡━━━━━━━━━━━━━━━━━━━━━━━━━━━╇━━━━━━━━━╇━━━━━━━━━━━━╇━━━━━━━━━━━━━━━━━━━━━━━━━━━━━━╇━━━━━━━━━━━━━━━━━━━━━━━━━━┩  │\n",
              "│ │ <span style=\"color: #af87ff; text-decoration-color: #af87ff\">genre_top                </span> │ <span style=\"color: #008080; text-decoration-color: #008080\">      0</span> │ <span style=\"color: #008080; text-decoration-color: #008080\">         0</span> │ <span style=\"color: #008080; text-decoration-color: #008080\">                           1</span> │ <span style=\"color: #008080; text-decoration-color: #008080\">                    4800</span> │  │\n",
              "│ └───────────────────────────┴─────────┴────────────┴──────────────────────────────┴──────────────────────────┘  │\n",
              "╰────────────────────────────────────────────────────── End ──────────────────────────────────────────────────────╯\n",
              "</pre>\n"
            ]
          },
          "metadata": {}
        }
      ]
    },
    {
      "cell_type": "code",
      "source": [
        "print(data_echotracks.genre_top.value_counts())\n",
        "\n",
        "print(\"\\nGênero Hip-Hop representa {:.2f}% do dataset.\\n\".format((data_echotracks[data_echotracks.genre_top == 'Hip-Hop'].shape[0] / data_echotracks.shape[0]) * 100))"
      ],
      "metadata": {
        "colab": {
          "base_uri": "https://localhost:8080/"
        },
        "id": "Vv3c31YYps_T",
        "outputId": "d720ed49-e72e-4451-d14b-c5aad1822688"
      },
      "execution_count": 6,
      "outputs": [
        {
          "output_type": "stream",
          "name": "stdout",
          "text": [
            "Rock       3892\n",
            "Hip-Hop     910\n",
            "Name: genre_top, dtype: int64\n",
            "\n",
            "Gênero Hip-Hop representa 18.95% do dataset.\n",
            "\n"
          ]
        }
      ]
    },
    {
      "cell_type": "markdown",
      "source": [
        "A base de dados possui um problema de desbalanceamento da variável resposta. Isso pode afetar o desempenho do modelo, fazendo com que acerte/erre a classificação de uma classe se comparada com a outra.\n",
        "\n",
        "Uma forma de resolver este problema é utilizando a abordagem *sampling*:\n",
        "- over sampling: cria novas observações da classe minoritária.\n",
        "- under sampling: elimina observações da classe majoritária.\n",
        "\n",
        "Neste momento não será utilizada nenhuma abordagem. Entretanto, no final, será realizada uma comparação entre o resultado do modelo com a base padrão e o modelo com a técnica *under sampling*."
      ],
      "metadata": {
        "id": "hJ8cyObKvV4k"
      }
    },
    {
      "cell_type": "markdown",
      "metadata": {
        "deletable": false,
        "run_control": {
          "frozen": true
        },
        "editable": false,
        "tags": [
          "context"
        ],
        "dc": {
          "key": "10"
        },
        "id": "Uwjwv45EM0h-"
      },
      "source": [
        "## Análise\n",
        "\n",
        "**Relações entre variávies contínuas. Matriz de correlação.**\n",
        "\n",
        "Verificando se há variáveis com fortes correlações entre si para evitar, se possível. Assim, evitando redundância de características (features), mantendo o modelo simples e melhorando a interpretabilidade. \n",
        "\n",
        "Com muitas características há o risco de sobreajuste. Além disso, a utilização de menos características pode acelerar consideravelmente o tempo de computação, caso o conjunto de dados seja muito grande."
      ]
    },
    {
      "outputs": [
        {
          "output_type": "execute_result",
          "data": {
            "text/plain": [
              "<pandas.io.formats.style.Styler at 0x7fa66b5cfaf0>"
            ],
            "text/html": [
              "<style type=\"text/css\">\n",
              "#T_b13fb_row0_col0, #T_b13fb_row1_col1, #T_b13fb_row2_col2, #T_b13fb_row3_col3, #T_b13fb_row4_col4, #T_b13fb_row5_col5, #T_b13fb_row6_col6, #T_b13fb_row7_col7, #T_b13fb_row8_col8 {\n",
              "  background-color: #023858;\n",
              "  color: #f1f1f1;\n",
              "}\n",
              "#T_b13fb_row0_col1, #T_b13fb_row1_col0, #T_b13fb_row1_col3, #T_b13fb_row2_col5, #T_b13fb_row2_col7, #T_b13fb_row4_col2, #T_b13fb_row4_col6, #T_b13fb_row4_col8, #T_b13fb_row6_col4 {\n",
              "  background-color: #fff7fb;\n",
              "  color: #000000;\n",
              "}\n",
              "#T_b13fb_row0_col2 {\n",
              "  background-color: #d2d2e7;\n",
              "  color: #000000;\n",
              "}\n",
              "#T_b13fb_row0_col3 {\n",
              "  background-color: #b5c4df;\n",
              "  color: #000000;\n",
              "}\n",
              "#T_b13fb_row0_col4 {\n",
              "  background-color: #f5eef6;\n",
              "  color: #000000;\n",
              "}\n",
              "#T_b13fb_row0_col5 {\n",
              "  background-color: #e9e5f1;\n",
              "  color: #000000;\n",
              "}\n",
              "#T_b13fb_row0_col6, #T_b13fb_row8_col3 {\n",
              "  background-color: #d1d2e6;\n",
              "  color: #000000;\n",
              "}\n",
              "#T_b13fb_row0_col7, #T_b13fb_row1_col7 {\n",
              "  background-color: #e1dfed;\n",
              "  color: #000000;\n",
              "}\n",
              "#T_b13fb_row0_col8, #T_b13fb_row3_col6 {\n",
              "  background-color: #dedcec;\n",
              "  color: #000000;\n",
              "}\n",
              "#T_b13fb_row1_col2 {\n",
              "  background-color: #e0dded;\n",
              "  color: #000000;\n",
              "}\n",
              "#T_b13fb_row1_col4, #T_b13fb_row4_col1 {\n",
              "  background-color: #97b7d7;\n",
              "  color: #000000;\n",
              "}\n",
              "#T_b13fb_row1_col5, #T_b13fb_row2_col4 {\n",
              "  background-color: #f3edf5;\n",
              "  color: #000000;\n",
              "}\n",
              "#T_b13fb_row1_col6, #T_b13fb_row6_col1 {\n",
              "  background-color: #b8c6e0;\n",
              "  color: #000000;\n",
              "}\n",
              "#T_b13fb_row1_col8 {\n",
              "  background-color: #e2dfee;\n",
              "  color: #000000;\n",
              "}\n",
              "#T_b13fb_row2_col0, #T_b13fb_row5_col0, #T_b13fb_row5_col3 {\n",
              "  background-color: #bdc8e1;\n",
              "  color: #000000;\n",
              "}\n",
              "#T_b13fb_row2_col1, #T_b13fb_row6_col0, #T_b13fb_row7_col0, #T_b13fb_row7_col1 {\n",
              "  background-color: #d0d1e6;\n",
              "  color: #000000;\n",
              "}\n",
              "#T_b13fb_row2_col3 {\n",
              "  background-color: #fbf3f9;\n",
              "  color: #000000;\n",
              "}\n",
              "#T_b13fb_row2_col6 {\n",
              "  background-color: #80aed2;\n",
              "  color: #f1f1f1;\n",
              "}\n",
              "#T_b13fb_row2_col8 {\n",
              "  background-color: #529bc7;\n",
              "  color: #f1f1f1;\n",
              "}\n",
              "#T_b13fb_row3_col0, #T_b13fb_row7_col3 {\n",
              "  background-color: #a7bddb;\n",
              "  color: #000000;\n",
              "}\n",
              "#T_b13fb_row3_col1 {\n",
              "  background-color: #f5eff6;\n",
              "  color: #000000;\n",
              "}\n",
              "#T_b13fb_row3_col2, #T_b13fb_row7_col2 {\n",
              "  background-color: #fef6fa;\n",
              "  color: #000000;\n",
              "}\n",
              "#T_b13fb_row3_col4 {\n",
              "  background-color: #c4cbe3;\n",
              "  color: #000000;\n",
              "}\n",
              "#T_b13fb_row3_col5, #T_b13fb_row5_col7 {\n",
              "  background-color: #dcdaeb;\n",
              "  color: #000000;\n",
              "}\n",
              "#T_b13fb_row3_col7 {\n",
              "  background-color: #adc1dd;\n",
              "  color: #000000;\n",
              "}\n",
              "#T_b13fb_row3_col8, #T_b13fb_row4_col7 {\n",
              "  background-color: #d9d8ea;\n",
              "  color: #000000;\n",
              "}\n",
              "#T_b13fb_row4_col0 {\n",
              "  background-color: #f4eef6;\n",
              "  color: #000000;\n",
              "}\n",
              "#T_b13fb_row4_col3 {\n",
              "  background-color: #d2d3e7;\n",
              "  color: #000000;\n",
              "}\n",
              "#T_b13fb_row4_col5 {\n",
              "  background-color: #fdf5fa;\n",
              "  color: #000000;\n",
              "}\n",
              "#T_b13fb_row5_col1 {\n",
              "  background-color: #ced0e6;\n",
              "  color: #000000;\n",
              "}\n",
              "#T_b13fb_row5_col2 {\n",
              "  background-color: #ede8f3;\n",
              "  color: #000000;\n",
              "}\n",
              "#T_b13fb_row5_col4, #T_b13fb_row6_col7 {\n",
              "  background-color: #dbdaeb;\n",
              "  color: #000000;\n",
              "}\n",
              "#T_b13fb_row5_col6 {\n",
              "  background-color: #c0c9e2;\n",
              "  color: #000000;\n",
              "}\n",
              "#T_b13fb_row5_col8 {\n",
              "  background-color: #e8e4f0;\n",
              "  color: #000000;\n",
              "}\n",
              "#T_b13fb_row6_col2 {\n",
              "  background-color: #93b5d6;\n",
              "  color: #000000;\n",
              "}\n",
              "#T_b13fb_row6_col3, #T_b13fb_row6_col5 {\n",
              "  background-color: #eae6f1;\n",
              "  color: #000000;\n",
              "}\n",
              "#T_b13fb_row6_col8 {\n",
              "  background-color: #bfc9e1;\n",
              "  color: #000000;\n",
              "}\n",
              "#T_b13fb_row7_col4 {\n",
              "  background-color: #c5cce3;\n",
              "  color: #000000;\n",
              "}\n",
              "#T_b13fb_row7_col5 {\n",
              "  background-color: #f0eaf4;\n",
              "  color: #000000;\n",
              "}\n",
              "#T_b13fb_row7_col6 {\n",
              "  background-color: #c8cde4;\n",
              "  color: #000000;\n",
              "}\n",
              "#T_b13fb_row7_col8 {\n",
              "  background-color: #d6d6e9;\n",
              "  color: #000000;\n",
              "}\n",
              "#T_b13fb_row8_col0 {\n",
              "  background-color: #c6cce3;\n",
              "  color: #000000;\n",
              "}\n",
              "#T_b13fb_row8_col1 {\n",
              "  background-color: #cdd0e5;\n",
              "  color: #000000;\n",
              "}\n",
              "#T_b13fb_row8_col2 {\n",
              "  background-color: #4c99c5;\n",
              "  color: #f1f1f1;\n",
              "}\n",
              "#T_b13fb_row8_col4 {\n",
              "  background-color: #efe9f3;\n",
              "  color: #000000;\n",
              "}\n",
              "#T_b13fb_row8_col5 {\n",
              "  background-color: #f7f0f7;\n",
              "  color: #000000;\n",
              "}\n",
              "#T_b13fb_row8_col6 {\n",
              "  background-color: #a5bddb;\n",
              "  color: #000000;\n",
              "}\n",
              "#T_b13fb_row8_col7 {\n",
              "  background-color: #d3d4e7;\n",
              "  color: #000000;\n",
              "}\n",
              "</style>\n",
              "<table id=\"T_b13fb\" class=\"dataframe\">\n",
              "  <thead>\n",
              "    <tr>\n",
              "      <th class=\"blank level0\" >&nbsp;</th>\n",
              "      <th id=\"T_b13fb_level0_col0\" class=\"col_heading level0 col0\" >track_id</th>\n",
              "      <th id=\"T_b13fb_level0_col1\" class=\"col_heading level0 col1\" >acousticness</th>\n",
              "      <th id=\"T_b13fb_level0_col2\" class=\"col_heading level0 col2\" >danceability</th>\n",
              "      <th id=\"T_b13fb_level0_col3\" class=\"col_heading level0 col3\" >energy</th>\n",
              "      <th id=\"T_b13fb_level0_col4\" class=\"col_heading level0 col4\" >instrumentalness</th>\n",
              "      <th id=\"T_b13fb_level0_col5\" class=\"col_heading level0 col5\" >liveness</th>\n",
              "      <th id=\"T_b13fb_level0_col6\" class=\"col_heading level0 col6\" >speechiness</th>\n",
              "      <th id=\"T_b13fb_level0_col7\" class=\"col_heading level0 col7\" >tempo</th>\n",
              "      <th id=\"T_b13fb_level0_col8\" class=\"col_heading level0 col8\" >valence</th>\n",
              "    </tr>\n",
              "  </thead>\n",
              "  <tbody>\n",
              "    <tr>\n",
              "      <th id=\"T_b13fb_level0_row0\" class=\"row_heading level0 row0\" >track_id</th>\n",
              "      <td id=\"T_b13fb_row0_col0\" class=\"data row0 col0\" >1.000000</td>\n",
              "      <td id=\"T_b13fb_row0_col1\" class=\"data row0 col1\" >-0.372282</td>\n",
              "      <td id=\"T_b13fb_row0_col2\" class=\"data row0 col2\" >0.049454</td>\n",
              "      <td id=\"T_b13fb_row0_col3\" class=\"data row0 col3\" >0.140703</td>\n",
              "      <td id=\"T_b13fb_row0_col4\" class=\"data row0 col4\" >-0.275623</td>\n",
              "      <td id=\"T_b13fb_row0_col5\" class=\"data row0 col5\" >0.048231</td>\n",
              "      <td id=\"T_b13fb_row0_col6\" class=\"data row0 col6\" >-0.026995</td>\n",
              "      <td id=\"T_b13fb_row0_col7\" class=\"data row0 col7\" >-0.025392</td>\n",
              "      <td id=\"T_b13fb_row0_col8\" class=\"data row0 col8\" >0.010070</td>\n",
              "    </tr>\n",
              "    <tr>\n",
              "      <th id=\"T_b13fb_level0_row1\" class=\"row_heading level0 row1\" >acousticness</th>\n",
              "      <td id=\"T_b13fb_row1_col0\" class=\"data row1 col0\" >-0.372282</td>\n",
              "      <td id=\"T_b13fb_row1_col1\" class=\"data row1 col1\" >1.000000</td>\n",
              "      <td id=\"T_b13fb_row1_col2\" class=\"data row1 col2\" >-0.028954</td>\n",
              "      <td id=\"T_b13fb_row1_col3\" class=\"data row1 col3\" >-0.281619</td>\n",
              "      <td id=\"T_b13fb_row1_col4\" class=\"data row1 col4\" >0.194780</td>\n",
              "      <td id=\"T_b13fb_row1_col5\" class=\"data row1 col5\" >-0.019991</td>\n",
              "      <td id=\"T_b13fb_row1_col6\" class=\"data row1 col6\" >0.072204</td>\n",
              "      <td id=\"T_b13fb_row1_col7\" class=\"data row1 col7\" >-0.026310</td>\n",
              "      <td id=\"T_b13fb_row1_col8\" class=\"data row1 col8\" >-0.013841</td>\n",
              "    </tr>\n",
              "    <tr>\n",
              "      <th id=\"T_b13fb_level0_row2\" class=\"row_heading level0 row2\" >danceability</th>\n",
              "      <td id=\"T_b13fb_row2_col0\" class=\"data row2 col0\" >0.049454</td>\n",
              "      <td id=\"T_b13fb_row2_col1\" class=\"data row2 col1\" >-0.028954</td>\n",
              "      <td id=\"T_b13fb_row2_col2\" class=\"data row2 col2\" >1.000000</td>\n",
              "      <td id=\"T_b13fb_row2_col3\" class=\"data row2 col3\" >-0.242032</td>\n",
              "      <td id=\"T_b13fb_row2_col4\" class=\"data row2 col4\" >-0.255217</td>\n",
              "      <td id=\"T_b13fb_row2_col5\" class=\"data row2 col5\" >-0.106584</td>\n",
              "      <td id=\"T_b13fb_row2_col6\" class=\"data row2 col6\" >0.276206</td>\n",
              "      <td id=\"T_b13fb_row2_col7\" class=\"data row2 col7\" >-0.242089</td>\n",
              "      <td id=\"T_b13fb_row2_col8\" class=\"data row2 col8\" >0.473165</td>\n",
              "    </tr>\n",
              "    <tr>\n",
              "      <th id=\"T_b13fb_level0_row3\" class=\"row_heading level0 row3\" >energy</th>\n",
              "      <td id=\"T_b13fb_row3_col0\" class=\"data row3 col0\" >0.140703</td>\n",
              "      <td id=\"T_b13fb_row3_col1\" class=\"data row3 col1\" >-0.281619</td>\n",
              "      <td id=\"T_b13fb_row3_col2\" class=\"data row3 col2\" >-0.242032</td>\n",
              "      <td id=\"T_b13fb_row3_col3\" class=\"data row3 col3\" >1.000000</td>\n",
              "      <td id=\"T_b13fb_row3_col4\" class=\"data row3 col4\" >0.028238</td>\n",
              "      <td id=\"T_b13fb_row3_col5\" class=\"data row3 col5\" >0.113331</td>\n",
              "      <td id=\"T_b13fb_row3_col6\" class=\"data row3 col6\" >-0.109983</td>\n",
              "      <td id=\"T_b13fb_row3_col7\" class=\"data row3 col7\" >0.195227</td>\n",
              "      <td id=\"T_b13fb_row3_col8\" class=\"data row3 col8\" >0.038603</td>\n",
              "    </tr>\n",
              "    <tr>\n",
              "      <th id=\"T_b13fb_level0_row4\" class=\"row_heading level0 row4\" >instrumentalness</th>\n",
              "      <td id=\"T_b13fb_row4_col0\" class=\"data row4 col0\" >-0.275623</td>\n",
              "      <td id=\"T_b13fb_row4_col1\" class=\"data row4 col1\" >0.194780</td>\n",
              "      <td id=\"T_b13fb_row4_col2\" class=\"data row4 col2\" >-0.255217</td>\n",
              "      <td id=\"T_b13fb_row4_col3\" class=\"data row4 col3\" >0.028238</td>\n",
              "      <td id=\"T_b13fb_row4_col4\" class=\"data row4 col4\" >1.000000</td>\n",
              "      <td id=\"T_b13fb_row4_col5\" class=\"data row4 col5\" >-0.091022</td>\n",
              "      <td id=\"T_b13fb_row4_col6\" class=\"data row4 col6\" >-0.366762</td>\n",
              "      <td id=\"T_b13fb_row4_col7\" class=\"data row4 col7\" >0.022215</td>\n",
              "      <td id=\"T_b13fb_row4_col8\" class=\"data row4 col8\" >-0.219967</td>\n",
              "    </tr>\n",
              "    <tr>\n",
              "      <th id=\"T_b13fb_level0_row5\" class=\"row_heading level0 row5\" >liveness</th>\n",
              "      <td id=\"T_b13fb_row5_col0\" class=\"data row5 col0\" >0.048231</td>\n",
              "      <td id=\"T_b13fb_row5_col1\" class=\"data row5 col1\" >-0.019991</td>\n",
              "      <td id=\"T_b13fb_row5_col2\" class=\"data row5 col2\" >-0.106584</td>\n",
              "      <td id=\"T_b13fb_row5_col3\" class=\"data row5 col3\" >0.113331</td>\n",
              "      <td id=\"T_b13fb_row5_col4\" class=\"data row5 col4\" >-0.091022</td>\n",
              "      <td id=\"T_b13fb_row5_col5\" class=\"data row5 col5\" >1.000000</td>\n",
              "      <td id=\"T_b13fb_row5_col6\" class=\"data row5 col6\" >0.041173</td>\n",
              "      <td id=\"T_b13fb_row5_col7\" class=\"data row5 col7\" >0.002732</td>\n",
              "      <td id=\"T_b13fb_row5_col8\" class=\"data row5 col8\" >-0.045093</td>\n",
              "    </tr>\n",
              "    <tr>\n",
              "      <th id=\"T_b13fb_level0_row6\" class=\"row_heading level0 row6\" >speechiness</th>\n",
              "      <td id=\"T_b13fb_row6_col0\" class=\"data row6 col0\" >-0.026995</td>\n",
              "      <td id=\"T_b13fb_row6_col1\" class=\"data row6 col1\" >0.072204</td>\n",
              "      <td id=\"T_b13fb_row6_col2\" class=\"data row6 col2\" >0.276206</td>\n",
              "      <td id=\"T_b13fb_row6_col3\" class=\"data row6 col3\" >-0.109983</td>\n",
              "      <td id=\"T_b13fb_row6_col4\" class=\"data row6 col4\" >-0.366762</td>\n",
              "      <td id=\"T_b13fb_row6_col5\" class=\"data row6 col5\" >0.041173</td>\n",
              "      <td id=\"T_b13fb_row6_col6\" class=\"data row6 col6\" >1.000000</td>\n",
              "      <td id=\"T_b13fb_row6_col7\" class=\"data row6 col7\" >0.008241</td>\n",
              "      <td id=\"T_b13fb_row6_col8\" class=\"data row6 col8\" >0.149894</td>\n",
              "    </tr>\n",
              "    <tr>\n",
              "      <th id=\"T_b13fb_level0_row7\" class=\"row_heading level0 row7\" >tempo</th>\n",
              "      <td id=\"T_b13fb_row7_col0\" class=\"data row7 col0\" >-0.025392</td>\n",
              "      <td id=\"T_b13fb_row7_col1\" class=\"data row7 col1\" >-0.026310</td>\n",
              "      <td id=\"T_b13fb_row7_col2\" class=\"data row7 col2\" >-0.242089</td>\n",
              "      <td id=\"T_b13fb_row7_col3\" class=\"data row7 col3\" >0.195227</td>\n",
              "      <td id=\"T_b13fb_row7_col4\" class=\"data row7 col4\" >0.022215</td>\n",
              "      <td id=\"T_b13fb_row7_col5\" class=\"data row7 col5\" >0.002732</td>\n",
              "      <td id=\"T_b13fb_row7_col6\" class=\"data row7 col6\" >0.008241</td>\n",
              "      <td id=\"T_b13fb_row7_col7\" class=\"data row7 col7\" >1.000000</td>\n",
              "      <td id=\"T_b13fb_row7_col8\" class=\"data row7 col8\" >0.052221</td>\n",
              "    </tr>\n",
              "    <tr>\n",
              "      <th id=\"T_b13fb_level0_row8\" class=\"row_heading level0 row8\" >valence</th>\n",
              "      <td id=\"T_b13fb_row8_col0\" class=\"data row8 col0\" >0.010070</td>\n",
              "      <td id=\"T_b13fb_row8_col1\" class=\"data row8 col1\" >-0.013841</td>\n",
              "      <td id=\"T_b13fb_row8_col2\" class=\"data row8 col2\" >0.473165</td>\n",
              "      <td id=\"T_b13fb_row8_col3\" class=\"data row8 col3\" >0.038603</td>\n",
              "      <td id=\"T_b13fb_row8_col4\" class=\"data row8 col4\" >-0.219967</td>\n",
              "      <td id=\"T_b13fb_row8_col5\" class=\"data row8 col5\" >-0.045093</td>\n",
              "      <td id=\"T_b13fb_row8_col6\" class=\"data row8 col6\" >0.149894</td>\n",
              "      <td id=\"T_b13fb_row8_col7\" class=\"data row8 col7\" >0.052221</td>\n",
              "      <td id=\"T_b13fb_row8_col8\" class=\"data row8 col8\" >1.000000</td>\n",
              "    </tr>\n",
              "  </tbody>\n",
              "</table>\n"
            ]
          },
          "metadata": {},
          "execution_count": 7
        }
      ],
      "execution_count": 7,
      "cell_type": "code",
      "metadata": {
        "trusted": false,
        "tags": [
          "sample_code"
        ],
        "dc": {
          "key": "10"
        },
        "collapsed": true,
        "colab": {
          "base_uri": "https://localhost:8080/",
          "height": 332
        },
        "id": "ZAvF5XEqM0h_",
        "outputId": "0fd39ee6-a3fc-4deb-cf4b-30d450b76a26"
      },
      "source": [
        "corr = data_echotracks.corr()\n",
        "corr.style.background_gradient()"
      ]
    },
    {
      "cell_type": "code",
      "source": [
        "corr[(corr<-0.3) | (corr>0.4)]"
      ],
      "metadata": {
        "colab": {
          "base_uri": "https://localhost:8080/",
          "height": 332
        },
        "id": "lZ2vCwwtXaGc",
        "outputId": "f99d26dc-fc95-4509-9af6-96d70c2992e6"
      },
      "execution_count": 8,
      "outputs": [
        {
          "output_type": "execute_result",
          "data": {
            "text/plain": [
              "                  track_id  acousticness  danceability  energy  \\\n",
              "track_id          1.000000     -0.372282           NaN     NaN   \n",
              "acousticness     -0.372282      1.000000           NaN     NaN   \n",
              "danceability           NaN           NaN      1.000000     NaN   \n",
              "energy                 NaN           NaN           NaN     1.0   \n",
              "instrumentalness       NaN           NaN           NaN     NaN   \n",
              "liveness               NaN           NaN           NaN     NaN   \n",
              "speechiness            NaN           NaN           NaN     NaN   \n",
              "tempo                  NaN           NaN           NaN     NaN   \n",
              "valence                NaN           NaN      0.473165     NaN   \n",
              "\n",
              "                  instrumentalness  liveness  speechiness  tempo   valence  \n",
              "track_id                       NaN       NaN          NaN    NaN       NaN  \n",
              "acousticness                   NaN       NaN          NaN    NaN       NaN  \n",
              "danceability                   NaN       NaN          NaN    NaN  0.473165  \n",
              "energy                         NaN       NaN          NaN    NaN       NaN  \n",
              "instrumentalness          1.000000       NaN    -0.366762    NaN       NaN  \n",
              "liveness                       NaN       1.0          NaN    NaN       NaN  \n",
              "speechiness              -0.366762       NaN     1.000000    NaN       NaN  \n",
              "tempo                          NaN       NaN          NaN    1.0       NaN  \n",
              "valence                        NaN       NaN          NaN    NaN  1.000000  "
            ],
            "text/html": [
              "\n",
              "  <div id=\"df-568a4e5c-7816-44a7-b4b4-418cbc9869f1\">\n",
              "    <div class=\"colab-df-container\">\n",
              "      <div>\n",
              "<style scoped>\n",
              "    .dataframe tbody tr th:only-of-type {\n",
              "        vertical-align: middle;\n",
              "    }\n",
              "\n",
              "    .dataframe tbody tr th {\n",
              "        vertical-align: top;\n",
              "    }\n",
              "\n",
              "    .dataframe thead th {\n",
              "        text-align: right;\n",
              "    }\n",
              "</style>\n",
              "<table border=\"1\" class=\"dataframe\">\n",
              "  <thead>\n",
              "    <tr style=\"text-align: right;\">\n",
              "      <th></th>\n",
              "      <th>track_id</th>\n",
              "      <th>acousticness</th>\n",
              "      <th>danceability</th>\n",
              "      <th>energy</th>\n",
              "      <th>instrumentalness</th>\n",
              "      <th>liveness</th>\n",
              "      <th>speechiness</th>\n",
              "      <th>tempo</th>\n",
              "      <th>valence</th>\n",
              "    </tr>\n",
              "  </thead>\n",
              "  <tbody>\n",
              "    <tr>\n",
              "      <th>track_id</th>\n",
              "      <td>1.000000</td>\n",
              "      <td>-0.372282</td>\n",
              "      <td>NaN</td>\n",
              "      <td>NaN</td>\n",
              "      <td>NaN</td>\n",
              "      <td>NaN</td>\n",
              "      <td>NaN</td>\n",
              "      <td>NaN</td>\n",
              "      <td>NaN</td>\n",
              "    </tr>\n",
              "    <tr>\n",
              "      <th>acousticness</th>\n",
              "      <td>-0.372282</td>\n",
              "      <td>1.000000</td>\n",
              "      <td>NaN</td>\n",
              "      <td>NaN</td>\n",
              "      <td>NaN</td>\n",
              "      <td>NaN</td>\n",
              "      <td>NaN</td>\n",
              "      <td>NaN</td>\n",
              "      <td>NaN</td>\n",
              "    </tr>\n",
              "    <tr>\n",
              "      <th>danceability</th>\n",
              "      <td>NaN</td>\n",
              "      <td>NaN</td>\n",
              "      <td>1.000000</td>\n",
              "      <td>NaN</td>\n",
              "      <td>NaN</td>\n",
              "      <td>NaN</td>\n",
              "      <td>NaN</td>\n",
              "      <td>NaN</td>\n",
              "      <td>0.473165</td>\n",
              "    </tr>\n",
              "    <tr>\n",
              "      <th>energy</th>\n",
              "      <td>NaN</td>\n",
              "      <td>NaN</td>\n",
              "      <td>NaN</td>\n",
              "      <td>1.0</td>\n",
              "      <td>NaN</td>\n",
              "      <td>NaN</td>\n",
              "      <td>NaN</td>\n",
              "      <td>NaN</td>\n",
              "      <td>NaN</td>\n",
              "    </tr>\n",
              "    <tr>\n",
              "      <th>instrumentalness</th>\n",
              "      <td>NaN</td>\n",
              "      <td>NaN</td>\n",
              "      <td>NaN</td>\n",
              "      <td>NaN</td>\n",
              "      <td>1.000000</td>\n",
              "      <td>NaN</td>\n",
              "      <td>-0.366762</td>\n",
              "      <td>NaN</td>\n",
              "      <td>NaN</td>\n",
              "    </tr>\n",
              "    <tr>\n",
              "      <th>liveness</th>\n",
              "      <td>NaN</td>\n",
              "      <td>NaN</td>\n",
              "      <td>NaN</td>\n",
              "      <td>NaN</td>\n",
              "      <td>NaN</td>\n",
              "      <td>1.0</td>\n",
              "      <td>NaN</td>\n",
              "      <td>NaN</td>\n",
              "      <td>NaN</td>\n",
              "    </tr>\n",
              "    <tr>\n",
              "      <th>speechiness</th>\n",
              "      <td>NaN</td>\n",
              "      <td>NaN</td>\n",
              "      <td>NaN</td>\n",
              "      <td>NaN</td>\n",
              "      <td>-0.366762</td>\n",
              "      <td>NaN</td>\n",
              "      <td>1.000000</td>\n",
              "      <td>NaN</td>\n",
              "      <td>NaN</td>\n",
              "    </tr>\n",
              "    <tr>\n",
              "      <th>tempo</th>\n",
              "      <td>NaN</td>\n",
              "      <td>NaN</td>\n",
              "      <td>NaN</td>\n",
              "      <td>NaN</td>\n",
              "      <td>NaN</td>\n",
              "      <td>NaN</td>\n",
              "      <td>NaN</td>\n",
              "      <td>1.0</td>\n",
              "      <td>NaN</td>\n",
              "    </tr>\n",
              "    <tr>\n",
              "      <th>valence</th>\n",
              "      <td>NaN</td>\n",
              "      <td>NaN</td>\n",
              "      <td>0.473165</td>\n",
              "      <td>NaN</td>\n",
              "      <td>NaN</td>\n",
              "      <td>NaN</td>\n",
              "      <td>NaN</td>\n",
              "      <td>NaN</td>\n",
              "      <td>1.000000</td>\n",
              "    </tr>\n",
              "  </tbody>\n",
              "</table>\n",
              "</div>\n",
              "      <button class=\"colab-df-convert\" onclick=\"convertToInteractive('df-568a4e5c-7816-44a7-b4b4-418cbc9869f1')\"\n",
              "              title=\"Convert this dataframe to an interactive table.\"\n",
              "              style=\"display:none;\">\n",
              "        \n",
              "  <svg xmlns=\"http://www.w3.org/2000/svg\" height=\"24px\"viewBox=\"0 0 24 24\"\n",
              "       width=\"24px\">\n",
              "    <path d=\"M0 0h24v24H0V0z\" fill=\"none\"/>\n",
              "    <path d=\"M18.56 5.44l.94 2.06.94-2.06 2.06-.94-2.06-.94-.94-2.06-.94 2.06-2.06.94zm-11 1L8.5 8.5l.94-2.06 2.06-.94-2.06-.94L8.5 2.5l-.94 2.06-2.06.94zm10 10l.94 2.06.94-2.06 2.06-.94-2.06-.94-.94-2.06-.94 2.06-2.06.94z\"/><path d=\"M17.41 7.96l-1.37-1.37c-.4-.4-.92-.59-1.43-.59-.52 0-1.04.2-1.43.59L10.3 9.45l-7.72 7.72c-.78.78-.78 2.05 0 2.83L4 21.41c.39.39.9.59 1.41.59.51 0 1.02-.2 1.41-.59l7.78-7.78 2.81-2.81c.8-.78.8-2.07 0-2.86zM5.41 20L4 18.59l7.72-7.72 1.47 1.35L5.41 20z\"/>\n",
              "  </svg>\n",
              "      </button>\n",
              "      \n",
              "  <style>\n",
              "    .colab-df-container {\n",
              "      display:flex;\n",
              "      flex-wrap:wrap;\n",
              "      gap: 12px;\n",
              "    }\n",
              "\n",
              "    .colab-df-convert {\n",
              "      background-color: #E8F0FE;\n",
              "      border: none;\n",
              "      border-radius: 50%;\n",
              "      cursor: pointer;\n",
              "      display: none;\n",
              "      fill: #1967D2;\n",
              "      height: 32px;\n",
              "      padding: 0 0 0 0;\n",
              "      width: 32px;\n",
              "    }\n",
              "\n",
              "    .colab-df-convert:hover {\n",
              "      background-color: #E2EBFA;\n",
              "      box-shadow: 0px 1px 2px rgba(60, 64, 67, 0.3), 0px 1px 3px 1px rgba(60, 64, 67, 0.15);\n",
              "      fill: #174EA6;\n",
              "    }\n",
              "\n",
              "    [theme=dark] .colab-df-convert {\n",
              "      background-color: #3B4455;\n",
              "      fill: #D2E3FC;\n",
              "    }\n",
              "\n",
              "    [theme=dark] .colab-df-convert:hover {\n",
              "      background-color: #434B5C;\n",
              "      box-shadow: 0px 1px 3px 1px rgba(0, 0, 0, 0.15);\n",
              "      filter: drop-shadow(0px 1px 2px rgba(0, 0, 0, 0.3));\n",
              "      fill: #FFFFFF;\n",
              "    }\n",
              "  </style>\n",
              "\n",
              "      <script>\n",
              "        const buttonEl =\n",
              "          document.querySelector('#df-568a4e5c-7816-44a7-b4b4-418cbc9869f1 button.colab-df-convert');\n",
              "        buttonEl.style.display =\n",
              "          google.colab.kernel.accessAllowed ? 'block' : 'none';\n",
              "\n",
              "        async function convertToInteractive(key) {\n",
              "          const element = document.querySelector('#df-568a4e5c-7816-44a7-b4b4-418cbc9869f1');\n",
              "          const dataTable =\n",
              "            await google.colab.kernel.invokeFunction('convertToInteractive',\n",
              "                                                     [key], {});\n",
              "          if (!dataTable) return;\n",
              "\n",
              "          const docLinkHtml = 'Like what you see? Visit the ' +\n",
              "            '<a target=\"_blank\" href=https://colab.research.google.com/notebooks/data_table.ipynb>data table notebook</a>'\n",
              "            + ' to learn more about interactive tables.';\n",
              "          element.innerHTML = '';\n",
              "          dataTable['output_type'] = 'display_data';\n",
              "          await google.colab.output.renderOutput(dataTable, element);\n",
              "          const docLink = document.createElement('div');\n",
              "          docLink.innerHTML = docLinkHtml;\n",
              "          element.appendChild(docLink);\n",
              "        }\n",
              "      </script>\n",
              "    </div>\n",
              "  </div>\n",
              "  "
            ]
          },
          "metadata": {},
          "execution_count": 8
        }
      ]
    },
    {
      "cell_type": "markdown",
      "source": [
        "Como observado, a maior correlação positiva (0,4732) está entre as variáveis *valence* e *danceability* e a maior correlação negativa (-0,3723) está entre as variáveis *acousticness* e *track_id*. Assim, como não há presença de correlação forte positiva (acima de 0,7) e nem negativa (abaixo de -0,7) entre variáveis, não há a necessidade de remover variáveis nesta etapa."
      ],
      "metadata": {
        "id": "KsuE0kliZt15"
      }
    },
    {
      "cell_type": "markdown",
      "metadata": {
        "deletable": false,
        "run_control": {
          "frozen": true
        },
        "editable": false,
        "tags": [
          "context"
        ],
        "dc": {
          "key": "17"
        },
        "id": "AUVeOJ4qM0h_"
      },
      "source": [
        "**Divisão dos dados: treino e teste**"
      ]
    },
    {
      "outputs": [],
      "execution_count": 9,
      "cell_type": "code",
      "metadata": {
        "trusted": false,
        "tags": [
          "sample_code"
        ],
        "dc": {
          "key": "17"
        },
        "collapsed": true,
        "id": "vjUsl4EMM0h_"
      },
      "source": [
        "from sklearn.model_selection import train_test_split\n",
        "\n",
        "# Features (Caracteristicas)\n",
        "features = data_echotracks.drop([\"genre_top\", \"track_id\"], axis=1).values\n",
        "\n",
        "# Labels: variavel resposta\n",
        "labels = data_echotracks[\"genre_top\"].values\n",
        "\n",
        "# Split dos dados\n",
        "train_features, test_features, train_labels, test_labels = train_test_split(features, labels, random_state=10)"
      ]
    },
    {
      "cell_type": "code",
      "source": [
        "features"
      ],
      "metadata": {
        "colab": {
          "base_uri": "https://localhost:8080/"
        },
        "id": "orwFFuDfePIa",
        "outputId": "eaaa4d51-e425-4f63-9186-58bd7e84b8dd"
      },
      "execution_count": 10,
      "outputs": [
        {
          "output_type": "execute_result",
          "data": {
            "text/plain": [
              "array([[4.16675233e-01, 6.75893985e-01, 6.34476268e-01, ...,\n",
              "        1.59310065e-01, 1.65922000e+02, 5.76660988e-01],\n",
              "       [3.74407769e-01, 5.28643062e-01, 8.17461132e-01, ...,\n",
              "        4.61818128e-01, 1.26957000e+02, 2.69240242e-01],\n",
              "       [4.35668989e-02, 7.45565870e-01, 7.01469992e-01, ...,\n",
              "        1.24595342e-01, 1.00260000e+02, 6.21661224e-01],\n",
              "       ...,\n",
              "       [1.04777022e-02, 6.52483062e-01, 6.57497709e-01, ...,\n",
              "        2.29174375e-01, 9.48850000e+01, 4.32240157e-01],\n",
              "       [6.79063452e-02, 4.32421004e-01, 7.64508334e-01, ...,\n",
              "        3.10552525e-01, 1.71329000e+02, 5.80087111e-01],\n",
              "       [1.53518164e-01, 6.38659813e-01, 7.62567227e-01, ...,\n",
              "        3.03372337e-01, 7.78420000e+01, 6.56612274e-01]])"
            ]
          },
          "metadata": {},
          "execution_count": 10
        }
      ]
    },
    {
      "cell_type": "code",
      "source": [
        "labels"
      ],
      "metadata": {
        "colab": {
          "base_uri": "https://localhost:8080/"
        },
        "id": "8gbQrNX8eVkD",
        "outputId": "11ba35db-7603-4ec4-a922-5250a6b06d0d"
      },
      "execution_count": 11,
      "outputs": [
        {
          "output_type": "execute_result",
          "data": {
            "text/plain": [
              "array(['Hip-Hop', 'Hip-Hop', 'Hip-Hop', ..., 'Hip-Hop', 'Hip-Hop',\n",
              "       'Hip-Hop'], dtype=object)"
            ]
          },
          "metadata": {},
          "execution_count": 11
        }
      ]
    },
    {
      "cell_type": "markdown",
      "metadata": {
        "deletable": false,
        "run_control": {
          "frozen": true
        },
        "editable": false,
        "tags": [
          "context"
        ],
        "dc": {
          "key": "24"
        },
        "id": "7X7S9JueM0h_"
      },
      "source": [
        "**PCA**\n",
        "\n",
        "Como citado anteriormente, pode ser útil simplificar os modelos e utilizar menos características quanto necessário para alcançar o melhor resultado. Assim, vamos experimentar a Análise de Componentes Principais (PCA) para reduzir o número de características do modelo.\n",
        "\n",
        "[PCA](https://royalsocietypublishing.org/doi/10.1098/rsta.2015.0202) é uma técnica para reduzir a dimensionalidade de tais conjuntos de dados, aumentando a interpretabilidade, mas ao mesmo tempo minimizando a perda de informações. Ele faz isso criando novas variáveis ​​não correlacionadas que maximizam sucessivamente a variância.\n",
        "\n",
        "Como a PCA utiliza a variância absoluta, uma característica com um intervalo maior de valores irá enviesar o algoritmo em relação as outras. Por isso, deve-se primeiro normalizar os dados. Neste exemplo, será utilizada a padronização, de modo que todas as variáveis tenham média 0 e desvio padrão 1."
      ]
    },
    {
      "outputs": [],
      "execution_count": 12,
      "cell_type": "code",
      "metadata": {
        "trusted": false,
        "tags": [
          "sample_code"
        ],
        "dc": {
          "key": "24"
        },
        "collapsed": true,
        "id": "6awRysyYM0iA"
      },
      "source": [
        "from sklearn.preprocessing import StandardScaler\n",
        "\n",
        "# Iniciando o StandardScaler\n",
        "scaler = StandardScaler()\n",
        "\n",
        "# Padronizando train_features e test_features\n",
        "scaled_train_features = scaler.fit_transform(train_features)\n",
        "scaled_test_features = scaler.transform(test_features)"
      ]
    },
    {
      "outputs": [
        {
          "output_type": "execute_result",
          "data": {
            "text/plain": [
              "Text(0.5, 0, 'componente principal')"
            ]
          },
          "metadata": {},
          "execution_count": 13
        },
        {
          "output_type": "display_data",
          "data": {
            "text/plain": [
              "<Figure size 432x288 with 1 Axes>"
            ],
            "image/png": "[encoded data removed]"
          },
          "metadata": {
            "needs_background": "light"
          }
        }
      ],
      "execution_count": 13,
      "cell_type": "code",
      "metadata": {
        "trusted": false,
        "tags": [
          "sample_code"
        ],
        "dc": {
          "key": "31"
        },
        "collapsed": true,
        "colab": {
          "base_uri": "https://localhost:8080/",
          "height": 300
        },
        "id": "naXEU90QM0iA",
        "outputId": "3ec5cefb-a591-492c-9ad0-75d226ffc113"
      },
      "source": [
        "import matplotlib.pyplot as plt\n",
        "from sklearn.decomposition import PCA\n",
        "\n",
        "pca = PCA()\n",
        "pca.fit(scaled_train_features)\n",
        "exp_var = pca.explained_variance_ratio_\n",
        "\n",
        "fig, ax = plt.subplots()\n",
        "ax.bar(range(pca.n_components_), exp_var)\n",
        "ax.set_xlabel('componente principal')"
      ]
    },
    {
      "cell_type": "markdown",
      "metadata": {
        "deletable": false,
        "run_control": {
          "frozen": true
        },
        "editable": false,
        "tags": [
          "context"
        ],
        "dc": {
          "key": "38"
        },
        "id": "m_ft_3dLM0iA"
      },
      "source": [
        "Baseado no gráfico acima, não é possível utilizar a regra do *cotovelo* (queda acentuada de uma barra para outra). Devido a isso, vamos observar a parcela de variância explicada acumulada para determinar quantos componentes são necessários para explicar 85% (valor arbitrário) da variância."
      ]
    },
    {
      "outputs": [
        {
          "output_type": "execute_result",
          "data": {
            "text/plain": [
              "<matplotlib.lines.Line2D at 0x7fa65e01afa0>"
            ]
          },
          "metadata": {},
          "execution_count": 14
        },
        {
          "output_type": "display_data",
          "data": {
            "text/plain": [
              "<Figure size 432x288 with 1 Axes>"
            ],
            "image/png": "[encoded data removed]"
          },
          "metadata": {
            "needs_background": "light"
          }
        }
      ],
      "execution_count": 14,
      "cell_type": "code",
      "metadata": {
        "trusted": false,
        "tags": [
          "sample_code"
        ],
        "dc": {
          "key": "38"
        },
        "collapsed": true,
        "colab": {
          "base_uri": "https://localhost:8080/",
          "height": 282
        },
        "id": "frg6-QSDM0iB",
        "outputId": "5c9ec296-1f50-457c-eba4-27b135232b94"
      },
      "source": [
        "import numpy as np\n",
        "\n",
        "# Calculo da variância explicada acumulada\n",
        "cum_exp_var = np.cumsum(exp_var)\n",
        "\n",
        "fig, ax = plt.subplots()\n",
        "ax.plot(cum_exp_var)\n",
        "ax.axhline(y=0.85, linestyle='--')\n",
        "ax.axvline(x=4, linestyle='-')\n",
        "ax.axvline(x=5, linestyle='-')"
      ]
    },
    {
      "cell_type": "markdown",
      "metadata": {
        "deletable": false,
        "run_control": {
          "frozen": true
        },
        "editable": false,
        "tags": [
          "context"
        ],
        "dc": {
          "key": "45"
        },
        "id": "d17m9qmaM0iB"
      },
      "source": [
        "Observando o gráfico acima, podemos utilizar 6 componentes (perceba que o eixo x começa em 0, portanto, x=5 representa 6 componentes)."
      ]
    },
    {
      "outputs": [],
      "execution_count": 15,
      "cell_type": "code",
      "metadata": {
        "trusted": false,
        "tags": [
          "sample_code"
        ],
        "dc": {
          "key": "45"
        },
        "collapsed": true,
        "id": "bfJA_jhhM0iB"
      },
      "source": [
        "pca = PCA(n_components=6, random_state=10)\n",
        "\n",
        "train_pca = pca.fit_transform(scaled_train_features)\n",
        "test_pca = pca.transform(scaled_test_features)"
      ]
    },
    {
      "cell_type": "markdown",
      "metadata": {
        "deletable": false,
        "run_control": {
          "frozen": true
        },
        "editable": false,
        "tags": [
          "context"
        ],
        "dc": {
          "key": "52"
        },
        "id": "Z8aYWmViM0iB"
      },
      "source": [
        "**Algoritmo Árvores de Decisão**"
      ]
    },
    {
      "outputs": [],
      "execution_count": 16,
      "cell_type": "code",
      "metadata": {
        "trusted": false,
        "tags": [
          "sample_code"
        ],
        "dc": {
          "key": "52"
        },
        "collapsed": true,
        "id": "KlBgZ-wCM0iC"
      },
      "source": [
        "from sklearn.tree import DecisionTreeClassifier\n",
        "\n",
        "# Iniciando DecisionTreeClassifier()\n",
        "model_tree = DecisionTreeClassifier(random_state=10)\n",
        "\n",
        "# Treinando o modelo\n",
        "model_tree.fit(train_pca, train_labels)\n",
        "\n",
        "# Prevendo\n",
        "pred_labels_model_tree = model_tree.predict(test_pca)"
      ]
    },
    {
      "outputs": [
        {
          "output_type": "stream",
          "name": "stdout",
          "text": [
            "Relatório de Classificação - Árvore de Decisão: \n",
            "               precision    recall  f1-score   support\n",
            "\n",
            "     Hip-Hop       0.63      0.62      0.62       235\n",
            "        Rock       0.91      0.91      0.91       966\n",
            "\n",
            "    accuracy                           0.85      1201\n",
            "   macro avg       0.77      0.77      0.77      1201\n",
            "weighted avg       0.85      0.85      0.85      1201\n",
            "\n"
          ]
        }
      ],
      "execution_count": 17,
      "cell_type": "code",
      "metadata": {
        "trusted": false,
        "tags": [
          "sample_code"
        ],
        "dc": {
          "key": "59"
        },
        "collapsed": true,
        "colab": {
          "base_uri": "https://localhost:8080/"
        },
        "id": "3ApzhUXOM0iC",
        "outputId": "7b771606-ca28-4bc3-f41d-64dce6b1c6ad"
      },
      "source": [
        "# Relatorio de Classificacao\n",
        "from sklearn.metrics import classification_report\n",
        "class_rep_model_tree = classification_report(test_labels, pred_labels_model_tree)\n",
        "\n",
        "print(\"Relatório de Classificação - Árvore de Decisão: \\n\", class_rep_model_tree)"
      ]
    },
    {
      "cell_type": "markdown",
      "source": [
        "Embora o desempenho do algoritmo seja aceitável (85%), não é uma boa ideia assumir que este é o melhor modelo a ser utilizado neste trabalho. Há sempre a possibilidade de outros algoritmos se saírem melhores, portanto, vale a pena testar outros algoritmos e encontrar qual o melhor para o trabalho proposto.\n",
        "\n",
        "Neste projeto, utilizei apenas *PCA* e *Árvore de Decisão* para praticar estes algoritmos em específico."
      ],
      "metadata": {
        "id": "NxXdi_kDon40"
      }
    },
    {
      "cell_type": "markdown",
      "metadata": {
        "deletable": false,
        "run_control": {
          "frozen": true
        },
        "editable": false,
        "tags": [
          "context"
        ],
        "dc": {
          "key": "66"
        },
        "id": "3y76xp1DM0iC"
      },
      "source": [
        "Outro detalhe importante é sobre o desbalanceamento dos dados (citado no início). Pelo relatório de classificação é possível observar que as músicas do gênero Rock são bem classificadas, já as de Hip-Hop são desproporcionalmente mal classificadas em relação as de Rock.\n",
        "\n",
        "Assim, vamos testar a abordagem *under sampling*.\n"
      ]
    },
    {
      "outputs": [
        {
          "output_type": "stream",
          "name": "stdout",
          "text": [
            "Dados Balanceados:\n"
          ]
        },
        {
          "output_type": "execute_result",
          "data": {
            "text/plain": [
              "Rock       910\n",
              "Hip-Hop    910\n",
              "Name: genre_top, dtype: int64"
            ]
          },
          "metadata": {},
          "execution_count": 21
        }
      ],
      "execution_count": 21,
      "cell_type": "code",
      "metadata": {
        "trusted": false,
        "tags": [
          "sample_code"
        ],
        "dc": {
          "key": "66"
        },
        "collapsed": true,
        "colab": {
          "base_uri": "https://localhost:8080/"
        },
        "id": "d5aBFI_LM0iD",
        "outputId": "f5fffff4-499e-411a-c91f-c6cab12131b4"
      },
      "source": [
        "hiphop = data_echotracks.loc[data_echotracks['genre_top'] == 'Hip-Hop']\n",
        "rock = data_echotracks.loc[data_echotracks['genre_top'] == 'Rock']\n",
        "\n",
        "# Amostra de Rock do mesmo tamanho de Hip-Hop\n",
        "rock = rock.sample(hiphop.shape[0], random_state=10)\n",
        "\n",
        "# Concatenando os dados\n",
        "rock_hiphop = pd.concat([rock, hiphop])\n",
        "\n",
        "print(\"Dados Balanceados:\")\n",
        "rock_hiphop.genre_top.value_counts()"
      ]
    },
    {
      "cell_type": "code",
      "source": [
        "# Trabalhando com os dados balanceados\n",
        "features = rock_hiphop.drop(['genre_top', 'track_id'], axis=1) \n",
        "labels = rock_hiphop['genre_top']\n",
        "\n",
        "train_features, test_features, train_labels, test_labels = train_test_split(features, labels, random_state=10)\n",
        "\n",
        "train_pca = pca.fit_transform(scaler.fit_transform(train_features))\n",
        "test_pca = pca.transform(scaler.transform(test_features))"
      ],
      "metadata": {
        "id": "Kjk2KEQ5y7S0"
      },
      "execution_count": 22,
      "outputs": []
    },
    {
      "outputs": [
        {
          "output_type": "stream",
          "name": "stdout",
          "text": [
            "Relatório de Classificação - Árvore de Decisão: \n",
            "               precision    recall  f1-score   support\n",
            "\n",
            "     Hip-Hop       0.82      0.77      0.79       230\n",
            "        Rock       0.78      0.82      0.80       225\n",
            "\n",
            "    accuracy                           0.80       455\n",
            "   macro avg       0.80      0.80      0.80       455\n",
            "weighted avg       0.80      0.80      0.80       455\n",
            "\n"
          ]
        }
      ],
      "execution_count": 23,
      "cell_type": "code",
      "metadata": {
        "trusted": false,
        "tags": [
          "sample_code"
        ],
        "dc": {
          "key": "73"
        },
        "collapsed": true,
        "colab": {
          "base_uri": "https://localhost:8080/"
        },
        "id": "0EJXwSRdM0iD",
        "outputId": "42ab70c4-f978-4a5f-8e1f-13f7d0a69cbf"
      },
      "source": [
        "model_tree = DecisionTreeClassifier(random_state=10)\n",
        "model_tree.fit(train_pca, train_labels)\n",
        "pred_labels_model_tree = model_tree.predict(test_pca)\n",
        "\n",
        "print(\"Relatório de Classificação - Árvore de Decisão: \\n\", classification_report(test_labels, pred_labels_model_tree))"
      ]
    },
    {
      "cell_type": "markdown",
      "source": [
        "Note que, apesar da classificação entre os gêneros musicais estarem próximos, ao realizar o procedimento de *under sampling* o conjunto de dados perdeu muitas observações que poderiam ser importantes para a construção do modelo."
      ],
      "metadata": {
        "id": "jRRxfCP60gPP"
      }
    },
    {
      "cell_type": "markdown",
      "source": [
        "### Bibliografia:\n",
        "\n",
        "- [Correlation Matrix](https://www.w3schools.com/datascience/ds_stat_correlation_matrix.asp)\n",
        "- [Principal component analysis: a review and recent developments](https://royalsocietypublishing.org/doi/10.1098/rsta.2015.0202)\n",
        "- [RandomForestClassifier](https://scikit-learn.org/stable/modules/generated/sklearn.ensemble.RandomForestClassifier.html)"
      ],
      "metadata": {
        "id": "DnmV4_CqqDL7"
      }
    }
  ],
  "metadata": {
    "kernelspec": {
      "language": "python",
      "name": "python3",
      "display_name": "Python 3"
    },
    "language_info": {
      "name": "python",
      "file_extension": ".py",
      "codemirror_mode": {
        "version": 3,
        "name": "ipython"
      },
      "nbconvert_exporter": "python",
      "version": "3.5.2",
      "mimetype": "text/x-python",
      "pygments_lexer": "ipython3"
    },
    "colab": {
      "provenance": []
    }
  }
}